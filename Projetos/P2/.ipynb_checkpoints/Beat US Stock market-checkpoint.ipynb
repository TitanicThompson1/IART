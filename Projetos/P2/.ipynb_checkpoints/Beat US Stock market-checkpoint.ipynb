{
 "cells": [
  {
   "cell_type": "markdown",
   "metadata": {
    "id": "3OgR8_cQU8ax"
   },
   "source": [
    "# Beat US Stock market (2019 edition)\n",
    "\n",
    "## Index\n",
    "\n",
    "1. Context\n",
    "2. Setup \n",
    "3. Dataset Analysis\n",
    "  \n",
    "  3.1 Missing values\n",
    "  \n",
    "  3.2 Cleaning Columns Names\n",
    "\n",
    "  3.3 Redundant Columns\n",
    "\n",
    "  3.4 Data Scaling\n",
    "\n",
    "  3.5 Statistical Analysis and Plotting\n",
    "\n",
    "  3.6 Class representation\n",
    "\n",
    "  3.7 Saving the Clean Data\n",
    "  \n",
    "4. Identification of the target concept\n",
    "5. Definition of the training and test sets\n",
    "6. Learning algorithms\n",
    "  \n",
    "  6.1 Decision Trees\n",
    "\n",
    "  6.2 K-NN\n",
    "\n",
    "  6.3 SVM\n",
    "\n",
    "  6.4 Neural Networks\n",
    "\n",
    "\n",
    "\n",
    "7. Conclusion"
   ]
  },
  {
   "cell_type": "markdown",
   "metadata": {
    "id": "c71A1J_meb8F"
   },
   "source": [
    "## Context\n",
    "\n",
    "The algorithmic trading space is buzzing with new strategies. Companies have spent billions in infrastructures and R&D to be able to jump ahead of the competition and beat the market. Still, it is well acknowledged that the buy & hold strategy is able to outperform many of the algorithmic strategies, especially in the long-run. However, finding value in stocks is an art that very few mastered, can a computer do that?\n",
    "\n",
    "This dataset was built using the Financial Modeling Prep API. Each row is a stock from the technology sector of the US stock market (that is available from the aforementioned API). Each column is a financial indicator that can be found in the 2018 10-K filings of each company.  Furthermore, the last column is the CLASS of each stock, where:\n",
    "- 0: if the price of the stock increases during 2019\n",
    "- 1: if the price of the stock decreases during 2019"
   ]
  },
  {
   "cell_type": "markdown",
   "metadata": {
    "id": "4sDxy3EzouRJ"
   },
   "source": [
    "## Setup"
   ]
  },
  {
   "cell_type": "markdown",
   "metadata": {
    "id": "B165E_cafXFk"
   },
   "source": [
    "### Importing libraries and dataset"
   ]
  },
  {
   "cell_type": "markdown",
   "metadata": {
    "id": "OG9yi96kZAIj"
   },
   "source": [
    "In the next cell, we import all the needed libraries for this project, so that all the imports stay in one place, organized."
   ]
  },
  {
   "cell_type": "code",
   "execution_count": 1,
   "metadata": {
    "id": "9XsPEvp-WN0u"
   },
   "outputs": [],
   "source": [
    "import pandas as pd\n",
    "import numpy as np\n",
    "\n",
    "# for min_max scaling\n",
    "from sklearn.preprocessing import MinMaxScaler\n",
    "\n",
    "# data visualization\n",
    "import matplotlib.pyplot as plt\n",
    "import seaborn as sb\n",
    "\n",
    "from sklearn.model_selection import cross_val_score\n",
    "from scipy import stats\n",
    "\n",
    "from sklearn.svm import SVC\n",
    "\n",
    "from sklearn.model_selection import GridSearchCV\n",
    "from sklearn.model_selection import StratifiedKFold\n",
    "from sklearn.model_selection import train_test_split\n",
    "\n",
    "from sklearn.tree import DecisionTreeClassifier\n",
    "from sklearn.neural_network import MLPClassifier\n",
    "from sklearn.neighbors import KNeighborsClassifier\n",
    "\n",
    "from sklearn.metrics import confusion_matrix\n",
    "from sklearn.metrics import classification_report\n",
    "from sklearn.metrics import accuracy_score\n",
    "\n",
    "from imblearn.over_sampling import SMOTE\n",
    "from imblearn.pipeline import Pipeline\n",
    "\n",
    "# import warnings filter\n",
    "from warnings import simplefilter\n",
    "# ignore all future warnings\n",
    "simplefilter(action='ignore', category=FutureWarning)"
   ]
  },
  {
   "cell_type": "markdown",
   "metadata": {
    "id": "KM4bYLIuZMIa"
   },
   "source": [
    "After that, we are going to import the dataset and look at a sample of its values"
   ]
  },
  {
   "cell_type": "code",
   "execution_count": 2,
   "metadata": {
    "colab": {
     "base_uri": "https://localhost:8080/",
     "height": 325
    },
    "id": "KG2RQXt-ZKTG",
    "outputId": "66fc406c-6f54-4ff3-86a7-f9f6d758876a"
   },
   "outputs": [
    {
     "data": {
      "text/html": [
       "<div>\n",
       "<style scoped>\n",
       "    .dataframe tbody tr th:only-of-type {\n",
       "        vertical-align: middle;\n",
       "    }\n",
       "\n",
       "    .dataframe tbody tr th {\n",
       "        vertical-align: top;\n",
       "    }\n",
       "\n",
       "    .dataframe thead th {\n",
       "        text-align: right;\n",
       "    }\n",
       "</style>\n",
       "<table border=\"1\" class=\"dataframe\">\n",
       "  <thead>\n",
       "    <tr style=\"text-align: right;\">\n",
       "      <th></th>\n",
       "      <th>Unnamed: 0</th>\n",
       "      <th>Revenue</th>\n",
       "      <th>Revenue Growth</th>\n",
       "      <th>Cost of Revenue</th>\n",
       "      <th>Gross Profit</th>\n",
       "      <th>SG&amp;A Expense</th>\n",
       "      <th>Operating Expenses</th>\n",
       "      <th>Operating Income</th>\n",
       "      <th>Earnings before Tax</th>\n",
       "      <th>Net Income</th>\n",
       "      <th>...</th>\n",
       "      <th>EPS Diluted Growth</th>\n",
       "      <th>Weighted Average Shares Growth</th>\n",
       "      <th>Weighted Average Shares Diluted Growth</th>\n",
       "      <th>Operating Cash Flow growth</th>\n",
       "      <th>Free Cash Flow growth</th>\n",
       "      <th>Receivables growth</th>\n",
       "      <th>Asset Growth</th>\n",
       "      <th>Book Value per Share Growth</th>\n",
       "      <th>SG&amp;A Expenses Growth</th>\n",
       "      <th>class</th>\n",
       "    </tr>\n",
       "  </thead>\n",
       "  <tbody>\n",
       "    <tr>\n",
       "      <th>0</th>\n",
       "      <td>INTC</td>\n",
       "      <td>7.084800e+10</td>\n",
       "      <td>0.1289</td>\n",
       "      <td>2.711100e+10</td>\n",
       "      <td>4.373700e+10</td>\n",
       "      <td>6.750000e+09</td>\n",
       "      <td>2.042100e+10</td>\n",
       "      <td>2.331600e+10</td>\n",
       "      <td>2.331700e+10</td>\n",
       "      <td>2.105300e+10</td>\n",
       "      <td>...</td>\n",
       "      <td>1.2513</td>\n",
       "      <td>-0.0191</td>\n",
       "      <td>-0.0277</td>\n",
       "      <td>0.3312</td>\n",
       "      <td>0.3793</td>\n",
       "      <td>0.1989</td>\n",
       "      <td>0.0382</td>\n",
       "      <td>0.1014</td>\n",
       "      <td>-0.0942</td>\n",
       "      <td>1</td>\n",
       "    </tr>\n",
       "    <tr>\n",
       "      <th>1</th>\n",
       "      <td>MU</td>\n",
       "      <td>3.039100e+10</td>\n",
       "      <td>0.4955</td>\n",
       "      <td>1.250000e+10</td>\n",
       "      <td>1.789100e+10</td>\n",
       "      <td>8.130000e+08</td>\n",
       "      <td>2.897000e+09</td>\n",
       "      <td>1.499400e+10</td>\n",
       "      <td>1.430300e+10</td>\n",
       "      <td>1.413500e+10</td>\n",
       "      <td>...</td>\n",
       "      <td>1.6100</td>\n",
       "      <td>0.0579</td>\n",
       "      <td>0.0650</td>\n",
       "      <td>1.1342</td>\n",
       "      <td>1.4922</td>\n",
       "      <td>0.4573</td>\n",
       "      <td>0.2275</td>\n",
       "      <td>0.6395</td>\n",
       "      <td>0.0942</td>\n",
       "      <td>1</td>\n",
       "    </tr>\n",
       "    <tr>\n",
       "      <th>2</th>\n",
       "      <td>AAPL</td>\n",
       "      <td>2.655950e+11</td>\n",
       "      <td>0.1586</td>\n",
       "      <td>1.637560e+11</td>\n",
       "      <td>1.018390e+11</td>\n",
       "      <td>1.670500e+10</td>\n",
       "      <td>3.094100e+10</td>\n",
       "      <td>7.089800e+10</td>\n",
       "      <td>7.290300e+10</td>\n",
       "      <td>5.953100e+10</td>\n",
       "      <td>...</td>\n",
       "      <td>0.2932</td>\n",
       "      <td>-0.0502</td>\n",
       "      <td>-0.0479</td>\n",
       "      <td>0.2057</td>\n",
       "      <td>0.2385</td>\n",
       "      <td>0.3734</td>\n",
       "      <td>-0.0256</td>\n",
       "      <td>-0.1584</td>\n",
       "      <td>0.0946</td>\n",
       "      <td>1</td>\n",
       "    </tr>\n",
       "    <tr>\n",
       "      <th>3</th>\n",
       "      <td>MSFT</td>\n",
       "      <td>1.103600e+11</td>\n",
       "      <td>0.1428</td>\n",
       "      <td>3.835300e+10</td>\n",
       "      <td>7.200700e+10</td>\n",
       "      <td>2.222300e+10</td>\n",
       "      <td>3.694900e+10</td>\n",
       "      <td>3.505800e+10</td>\n",
       "      <td>3.647400e+10</td>\n",
       "      <td>1.657100e+10</td>\n",
       "      <td>...</td>\n",
       "      <td>-0.3446</td>\n",
       "      <td>-0.0059</td>\n",
       "      <td>-0.0049</td>\n",
       "      <td>0.1108</td>\n",
       "      <td>0.0279</td>\n",
       "      <td>0.1806</td>\n",
       "      <td>0.0341</td>\n",
       "      <td>-0.0512</td>\n",
       "      <td>0.1144</td>\n",
       "      <td>1</td>\n",
       "    </tr>\n",
       "    <tr>\n",
       "      <th>4</th>\n",
       "      <td>HPQ</td>\n",
       "      <td>5.847200e+10</td>\n",
       "      <td>0.1233</td>\n",
       "      <td>4.780300e+10</td>\n",
       "      <td>1.066900e+10</td>\n",
       "      <td>4.859000e+09</td>\n",
       "      <td>6.605000e+09</td>\n",
       "      <td>4.064000e+09</td>\n",
       "      <td>3.013000e+09</td>\n",
       "      <td>5.327000e+09</td>\n",
       "      <td>...</td>\n",
       "      <td>1.2027</td>\n",
       "      <td>-0.0432</td>\n",
       "      <td>-0.0400</td>\n",
       "      <td>0.2314</td>\n",
       "      <td>0.2422</td>\n",
       "      <td>0.1584</td>\n",
       "      <td>0.0519</td>\n",
       "      <td>0.8039</td>\n",
       "      <td>0.1104</td>\n",
       "      <td>1</td>\n",
       "    </tr>\n",
       "  </tbody>\n",
       "</table>\n",
       "<p>5 rows × 109 columns</p>\n",
       "</div>"
      ],
      "text/plain": [
       "  Unnamed: 0       Revenue  Revenue Growth  Cost of Revenue  Gross Profit  \\\n",
       "0       INTC  7.084800e+10          0.1289     2.711100e+10  4.373700e+10   \n",
       "1         MU  3.039100e+10          0.4955     1.250000e+10  1.789100e+10   \n",
       "2       AAPL  2.655950e+11          0.1586     1.637560e+11  1.018390e+11   \n",
       "3       MSFT  1.103600e+11          0.1428     3.835300e+10  7.200700e+10   \n",
       "4        HPQ  5.847200e+10          0.1233     4.780300e+10  1.066900e+10   \n",
       "\n",
       "   SG&A Expense  Operating Expenses  Operating Income  Earnings before Tax  \\\n",
       "0  6.750000e+09        2.042100e+10      2.331600e+10         2.331700e+10   \n",
       "1  8.130000e+08        2.897000e+09      1.499400e+10         1.430300e+10   \n",
       "2  1.670500e+10        3.094100e+10      7.089800e+10         7.290300e+10   \n",
       "3  2.222300e+10        3.694900e+10      3.505800e+10         3.647400e+10   \n",
       "4  4.859000e+09        6.605000e+09      4.064000e+09         3.013000e+09   \n",
       "\n",
       "     Net Income  ...  EPS Diluted Growth  Weighted Average Shares Growth  \\\n",
       "0  2.105300e+10  ...              1.2513                         -0.0191   \n",
       "1  1.413500e+10  ...              1.6100                          0.0579   \n",
       "2  5.953100e+10  ...              0.2932                         -0.0502   \n",
       "3  1.657100e+10  ...             -0.3446                         -0.0059   \n",
       "4  5.327000e+09  ...              1.2027                         -0.0432   \n",
       "\n",
       "   Weighted Average Shares Diluted Growth  Operating Cash Flow growth  \\\n",
       "0                                 -0.0277                      0.3312   \n",
       "1                                  0.0650                      1.1342   \n",
       "2                                 -0.0479                      0.2057   \n",
       "3                                 -0.0049                      0.1108   \n",
       "4                                 -0.0400                      0.2314   \n",
       "\n",
       "   Free Cash Flow growth  Receivables growth  Asset Growth  \\\n",
       "0                 0.3793              0.1989        0.0382   \n",
       "1                 1.4922              0.4573        0.2275   \n",
       "2                 0.2385              0.3734       -0.0256   \n",
       "3                 0.0279              0.1806        0.0341   \n",
       "4                 0.2422              0.1584        0.0519   \n",
       "\n",
       "   Book Value per Share Growth  SG&A Expenses Growth  class  \n",
       "0                       0.1014               -0.0942      1  \n",
       "1                       0.6395                0.0942      1  \n",
       "2                      -0.1584                0.0946      1  \n",
       "3                      -0.0512                0.1144      1  \n",
       "4                       0.8039                0.1104      1  \n",
       "\n",
       "[5 rows x 109 columns]"
      ]
     },
     "execution_count": 2,
     "metadata": {},
     "output_type": "execute_result"
    }
   ],
   "source": [
    "stock_data = pd.read_csv('data/Example_DATASET.csv')\n",
    "\n",
    "stock_data.head()"
   ]
  },
  {
   "cell_type": "markdown",
   "metadata": {
    "id": "vX0Pq61alPF_"
   },
   "source": [
    "## Dataset Analysis\n",
    "\n",
    " "
   ]
  },
  {
   "cell_type": "markdown",
   "metadata": {
    "id": "8VQgGLgAdEbM"
   },
   "source": [
    "### Missing values\n",
    "\n",
    "Firstly, we need to verify if there is any values missing"
   ]
  },
  {
   "cell_type": "code",
   "execution_count": 3,
   "metadata": {
    "colab": {
     "base_uri": "https://localhost:8080/"
    },
    "id": "Rx3omK2ZdNa8",
    "outputId": "65b3bba9-ecc6-4719-9a41-daea5c32605c"
   },
   "outputs": [
    {
     "name": "stdout",
     "output_type": "stream",
     "text": [
      "Number of missing values:  0\n"
     ]
    }
   ],
   "source": [
    "print(\"Number of missing values: \", stock_data.isnull().sum().sum())"
   ]
  },
  {
   "cell_type": "markdown",
   "metadata": {
    "id": "PsEKRuo2dn81"
   },
   "source": [
    "Since there are no missing values, we don't need to treat them."
   ]
  },
  {
   "cell_type": "markdown",
   "metadata": {
    "id": "wnqBiD8Hpw_P"
   },
   "source": [
    "### Cleaning Columns Names\n",
    "The name of the first column is quite off what the data is. This suggest that a mistake was made when creating this column. We are going to rename the column to **Company Acronym**"
   ]
  },
  {
   "cell_type": "code",
   "execution_count": 4,
   "metadata": {
    "colab": {
     "base_uri": "https://localhost:8080/",
     "height": 325
    },
    "id": "YyYOlcprqsuU",
    "outputId": "5a3708dd-91df-4fd2-c72e-a5446e3b7611"
   },
   "outputs": [
    {
     "data": {
      "text/html": [
       "<div>\n",
       "<style scoped>\n",
       "    .dataframe tbody tr th:only-of-type {\n",
       "        vertical-align: middle;\n",
       "    }\n",
       "\n",
       "    .dataframe tbody tr th {\n",
       "        vertical-align: top;\n",
       "    }\n",
       "\n",
       "    .dataframe thead th {\n",
       "        text-align: right;\n",
       "    }\n",
       "</style>\n",
       "<table border=\"1\" class=\"dataframe\">\n",
       "  <thead>\n",
       "    <tr style=\"text-align: right;\">\n",
       "      <th></th>\n",
       "      <th>Company Acronym</th>\n",
       "      <th>Revenue</th>\n",
       "      <th>Revenue Growth</th>\n",
       "      <th>Cost of Revenue</th>\n",
       "      <th>Gross Profit</th>\n",
       "      <th>SG&amp;A Expense</th>\n",
       "      <th>Operating Expenses</th>\n",
       "      <th>Operating Income</th>\n",
       "      <th>Earnings before Tax</th>\n",
       "      <th>Net Income</th>\n",
       "      <th>...</th>\n",
       "      <th>EPS Diluted Growth</th>\n",
       "      <th>Weighted Average Shares Growth</th>\n",
       "      <th>Weighted Average Shares Diluted Growth</th>\n",
       "      <th>Operating Cash Flow growth</th>\n",
       "      <th>Free Cash Flow growth</th>\n",
       "      <th>Receivables growth</th>\n",
       "      <th>Asset Growth</th>\n",
       "      <th>Book Value per Share Growth</th>\n",
       "      <th>SG&amp;A Expenses Growth</th>\n",
       "      <th>class</th>\n",
       "    </tr>\n",
       "  </thead>\n",
       "  <tbody>\n",
       "    <tr>\n",
       "      <th>0</th>\n",
       "      <td>INTC</td>\n",
       "      <td>7.084800e+10</td>\n",
       "      <td>0.1289</td>\n",
       "      <td>2.711100e+10</td>\n",
       "      <td>4.373700e+10</td>\n",
       "      <td>6.750000e+09</td>\n",
       "      <td>2.042100e+10</td>\n",
       "      <td>2.331600e+10</td>\n",
       "      <td>2.331700e+10</td>\n",
       "      <td>2.105300e+10</td>\n",
       "      <td>...</td>\n",
       "      <td>1.2513</td>\n",
       "      <td>-0.0191</td>\n",
       "      <td>-0.0277</td>\n",
       "      <td>0.3312</td>\n",
       "      <td>0.3793</td>\n",
       "      <td>0.1989</td>\n",
       "      <td>0.0382</td>\n",
       "      <td>0.1014</td>\n",
       "      <td>-0.0942</td>\n",
       "      <td>1</td>\n",
       "    </tr>\n",
       "    <tr>\n",
       "      <th>1</th>\n",
       "      <td>MU</td>\n",
       "      <td>3.039100e+10</td>\n",
       "      <td>0.4955</td>\n",
       "      <td>1.250000e+10</td>\n",
       "      <td>1.789100e+10</td>\n",
       "      <td>8.130000e+08</td>\n",
       "      <td>2.897000e+09</td>\n",
       "      <td>1.499400e+10</td>\n",
       "      <td>1.430300e+10</td>\n",
       "      <td>1.413500e+10</td>\n",
       "      <td>...</td>\n",
       "      <td>1.6100</td>\n",
       "      <td>0.0579</td>\n",
       "      <td>0.0650</td>\n",
       "      <td>1.1342</td>\n",
       "      <td>1.4922</td>\n",
       "      <td>0.4573</td>\n",
       "      <td>0.2275</td>\n",
       "      <td>0.6395</td>\n",
       "      <td>0.0942</td>\n",
       "      <td>1</td>\n",
       "    </tr>\n",
       "    <tr>\n",
       "      <th>2</th>\n",
       "      <td>AAPL</td>\n",
       "      <td>2.655950e+11</td>\n",
       "      <td>0.1586</td>\n",
       "      <td>1.637560e+11</td>\n",
       "      <td>1.018390e+11</td>\n",
       "      <td>1.670500e+10</td>\n",
       "      <td>3.094100e+10</td>\n",
       "      <td>7.089800e+10</td>\n",
       "      <td>7.290300e+10</td>\n",
       "      <td>5.953100e+10</td>\n",
       "      <td>...</td>\n",
       "      <td>0.2932</td>\n",
       "      <td>-0.0502</td>\n",
       "      <td>-0.0479</td>\n",
       "      <td>0.2057</td>\n",
       "      <td>0.2385</td>\n",
       "      <td>0.3734</td>\n",
       "      <td>-0.0256</td>\n",
       "      <td>-0.1584</td>\n",
       "      <td>0.0946</td>\n",
       "      <td>1</td>\n",
       "    </tr>\n",
       "    <tr>\n",
       "      <th>3</th>\n",
       "      <td>MSFT</td>\n",
       "      <td>1.103600e+11</td>\n",
       "      <td>0.1428</td>\n",
       "      <td>3.835300e+10</td>\n",
       "      <td>7.200700e+10</td>\n",
       "      <td>2.222300e+10</td>\n",
       "      <td>3.694900e+10</td>\n",
       "      <td>3.505800e+10</td>\n",
       "      <td>3.647400e+10</td>\n",
       "      <td>1.657100e+10</td>\n",
       "      <td>...</td>\n",
       "      <td>-0.3446</td>\n",
       "      <td>-0.0059</td>\n",
       "      <td>-0.0049</td>\n",
       "      <td>0.1108</td>\n",
       "      <td>0.0279</td>\n",
       "      <td>0.1806</td>\n",
       "      <td>0.0341</td>\n",
       "      <td>-0.0512</td>\n",
       "      <td>0.1144</td>\n",
       "      <td>1</td>\n",
       "    </tr>\n",
       "    <tr>\n",
       "      <th>4</th>\n",
       "      <td>HPQ</td>\n",
       "      <td>5.847200e+10</td>\n",
       "      <td>0.1233</td>\n",
       "      <td>4.780300e+10</td>\n",
       "      <td>1.066900e+10</td>\n",
       "      <td>4.859000e+09</td>\n",
       "      <td>6.605000e+09</td>\n",
       "      <td>4.064000e+09</td>\n",
       "      <td>3.013000e+09</td>\n",
       "      <td>5.327000e+09</td>\n",
       "      <td>...</td>\n",
       "      <td>1.2027</td>\n",
       "      <td>-0.0432</td>\n",
       "      <td>-0.0400</td>\n",
       "      <td>0.2314</td>\n",
       "      <td>0.2422</td>\n",
       "      <td>0.1584</td>\n",
       "      <td>0.0519</td>\n",
       "      <td>0.8039</td>\n",
       "      <td>0.1104</td>\n",
       "      <td>1</td>\n",
       "    </tr>\n",
       "  </tbody>\n",
       "</table>\n",
       "<p>5 rows × 109 columns</p>\n",
       "</div>"
      ],
      "text/plain": [
       "  Company Acronym       Revenue  Revenue Growth  Cost of Revenue  \\\n",
       "0            INTC  7.084800e+10          0.1289     2.711100e+10   \n",
       "1              MU  3.039100e+10          0.4955     1.250000e+10   \n",
       "2            AAPL  2.655950e+11          0.1586     1.637560e+11   \n",
       "3            MSFT  1.103600e+11          0.1428     3.835300e+10   \n",
       "4             HPQ  5.847200e+10          0.1233     4.780300e+10   \n",
       "\n",
       "   Gross Profit  SG&A Expense  Operating Expenses  Operating Income  \\\n",
       "0  4.373700e+10  6.750000e+09        2.042100e+10      2.331600e+10   \n",
       "1  1.789100e+10  8.130000e+08        2.897000e+09      1.499400e+10   \n",
       "2  1.018390e+11  1.670500e+10        3.094100e+10      7.089800e+10   \n",
       "3  7.200700e+10  2.222300e+10        3.694900e+10      3.505800e+10   \n",
       "4  1.066900e+10  4.859000e+09        6.605000e+09      4.064000e+09   \n",
       "\n",
       "   Earnings before Tax    Net Income  ...  EPS Diluted Growth  \\\n",
       "0         2.331700e+10  2.105300e+10  ...              1.2513   \n",
       "1         1.430300e+10  1.413500e+10  ...              1.6100   \n",
       "2         7.290300e+10  5.953100e+10  ...              0.2932   \n",
       "3         3.647400e+10  1.657100e+10  ...             -0.3446   \n",
       "4         3.013000e+09  5.327000e+09  ...              1.2027   \n",
       "\n",
       "   Weighted Average Shares Growth  Weighted Average Shares Diluted Growth  \\\n",
       "0                         -0.0191                                 -0.0277   \n",
       "1                          0.0579                                  0.0650   \n",
       "2                         -0.0502                                 -0.0479   \n",
       "3                         -0.0059                                 -0.0049   \n",
       "4                         -0.0432                                 -0.0400   \n",
       "\n",
       "   Operating Cash Flow growth  Free Cash Flow growth  Receivables growth  \\\n",
       "0                      0.3312                 0.3793              0.1989   \n",
       "1                      1.1342                 1.4922              0.4573   \n",
       "2                      0.2057                 0.2385              0.3734   \n",
       "3                      0.1108                 0.0279              0.1806   \n",
       "4                      0.2314                 0.2422              0.1584   \n",
       "\n",
       "   Asset Growth  Book Value per Share Growth  SG&A Expenses Growth  class  \n",
       "0        0.0382                       0.1014               -0.0942      1  \n",
       "1        0.2275                       0.6395                0.0942      1  \n",
       "2       -0.0256                      -0.1584                0.0946      1  \n",
       "3        0.0341                      -0.0512                0.1144      1  \n",
       "4        0.0519                       0.8039                0.1104      1  \n",
       "\n",
       "[5 rows x 109 columns]"
      ]
     },
     "execution_count": 4,
     "metadata": {},
     "output_type": "execute_result"
    }
   ],
   "source": [
    "stock_data = stock_data.rename(columns = {'Unnamed: 0':'Company Acronym'})\n",
    "stock_data.head()"
   ]
  },
  {
   "cell_type": "markdown",
   "metadata": {
    "id": "q-m8VlWdvskw"
   },
   "source": [
    "### Redundant columns\n",
    "We decided to check for redudant columns, i.e., columns that have the same name or have the exact same data.\n",
    "\n",
    "The following code goes through every column and searches for that."
   ]
  },
  {
   "cell_type": "code",
   "execution_count": 5,
   "metadata": {
    "colab": {
     "base_uri": "https://localhost:8080/"
    },
    "id": "vgp78rlNkjzK",
    "outputId": "26b441f5-c10b-4ab9-c7ba-c75e7e116054"
   },
   "outputs": [
    {
     "name": "stdout",
     "output_type": "stream",
     "text": [
      "          Revenue  Revenue Growth  SG&A Expense  Operating Expenses  \\\n",
      "0    7.084800e+10          0.1289  6.750000e+09        2.042100e+10   \n",
      "1    3.039100e+10          0.4955  8.130000e+08        2.897000e+09   \n",
      "2    2.655950e+11          0.1586  1.670500e+10        3.094100e+10   \n",
      "3    1.103600e+11          0.1428  2.222300e+10        3.694900e+10   \n",
      "4    5.847200e+10          0.1233  4.859000e+09        6.605000e+09   \n",
      "..            ...             ...           ...                 ...   \n",
      "633  1.551410e+08          0.0781  2.841500e+07        2.841500e+07   \n",
      "634  6.499000e+07          0.0386  9.471523e+06        9.471523e+06   \n",
      "635  1.113220e+08          0.0450  8.182300e+07        9.081600e+07   \n",
      "636  1.814440e+08          0.1300  2.031900e+07        2.276500e+07   \n",
      "637  5.278800e+07          0.1456  1.790100e+07        2.281000e+07   \n",
      "\n",
      "     Operating Income    EPS  Weighted Average Shs Out  Gross Margin  \\\n",
      "0        2.331600e+10   4.57              4.564000e+09        0.6173   \n",
      "1        1.499400e+10  12.27              1.159811e+09        0.5887   \n",
      "2        7.089800e+10  12.01              4.829926e+09        0.3834   \n",
      "3        3.505800e+10   2.15              7.683198e+09        0.6525   \n",
      "4        4.064000e+09   3.30              1.582409e+09        0.1825   \n",
      "..                ...    ...                       ...           ...   \n",
      "633      9.026000e+06   0.83              7.152764e+06        0.2413   \n",
      "634      9.093770e+05   0.25              1.962062e+06        0.1597   \n",
      "635      8.238000e+06   0.38              1.211082e+07        0.8898   \n",
      "636      4.155000e+06   0.78              4.496494e+06        0.1484   \n",
      "637      1.357000e+06   0.00              2.105525e+07        0.4578   \n",
      "\n",
      "     EBITDA Margin  EBIT Margin  ...  Net Income Growth  EPS Growth  \\\n",
      "0            0.456       0.3273  ...             1.1928      1.2402   \n",
      "1            0.638       0.4819  ...             1.7776      1.6274   \n",
      "2            0.316       0.2745  ...             0.2312      0.2956   \n",
      "3            0.423       0.3305  ...            -0.3499     -0.3465   \n",
      "4            0.079       0.0695  ...             1.1089      1.2000   \n",
      "..             ...          ...  ...                ...         ...   \n",
      "633          0.097       0.0582  ...             0.3096      0.2769   \n",
      "634          0.014       0.0133  ...             0.8129      0.7857   \n",
      "635          0.091       0.0744  ...             0.3204      0.4074   \n",
      "636          0.026       0.0232  ...            -0.3011     -0.3097   \n",
      "637          0.056       0.0125  ...             1.0078      1.0000   \n",
      "\n",
      "     Weighted Average Shares Growth  Operating Cash Flow growth  \\\n",
      "0                           -0.0191                      0.3312   \n",
      "1                            0.0579                      1.1342   \n",
      "2                           -0.0502                      0.2057   \n",
      "3                           -0.0059                      0.1108   \n",
      "4                           -0.0432                      0.2314   \n",
      "..                              ...                         ...   \n",
      "633                          0.0186                      0.3089   \n",
      "634                          0.0000                      0.5068   \n",
      "635                         -0.0434                      1.5612   \n",
      "636                          0.0137                      7.8783   \n",
      "637                          0.0437                      1.8439   \n",
      "\n",
      "     Free Cash Flow growth  Receivables growth  Asset Growth  \\\n",
      "0                   0.3793              0.1989        0.0382   \n",
      "1                   1.4922              0.4573        0.2275   \n",
      "2                   0.2385              0.3734       -0.0256   \n",
      "3                   0.0279              0.1806        0.0341   \n",
      "4                   0.2422              0.1584        0.0519   \n",
      "..                     ...                 ...           ...   \n",
      "633                 0.7012              0.1190        0.0513   \n",
      "634                 0.5036             -0.0154       -0.0800   \n",
      "635                 2.5239              0.0745       -0.0492   \n",
      "636                 6.7290             -0.0129        0.0313   \n",
      "637                 5.5903             -0.0446       -0.0587   \n",
      "\n",
      "     Book Value per Share Growth  SG&A Expenses Growth  class  \n",
      "0                         0.1014               -0.0942      1  \n",
      "1                         0.6395                0.0942      1  \n",
      "2                        -0.1584                0.0946      1  \n",
      "3                        -0.0512                0.1144      1  \n",
      "4                         0.8039                0.1104      1  \n",
      "..                           ...                   ...    ...  \n",
      "633                       0.1616                0.0510      1  \n",
      "634                       0.0629               -0.0219      0  \n",
      "635                       0.1241                0.0248      1  \n",
      "636                       0.0339                0.0548      1  \n",
      "637                      -0.1275               -0.0048      0  \n",
      "\n",
      "[638 rows x 60 columns]\n"
     ]
    }
   ],
   "source": [
    "def trimm_correlated(df_in, threshold):\n",
    "   \n",
    "    df_corr = df_in.corr(method='pearson')\n",
    "    df_not_correlated = ~(df_corr.mask(np.tril(np.ones([len(df_corr)]*2, dtype=bool))).abs() > threshold).any()\n",
    "    un_corr_idx = df_not_correlated.loc[df_not_correlated[df_not_correlated.index] == True].index\n",
    "    df_out = df_in[un_corr_idx]\n",
    "    return df_out\n",
    "\n",
    "reduced_data = trimm_correlated(stock_data, 0.95)\n",
    "\n",
    "print(reduced_data)\n"
   ]
  },
  {
   "cell_type": "markdown",
   "metadata": {
    "id": "JC_Rk2FJW6jM"
   },
   "source": [
    "### Data Scaling\n",
    "\n",
    "\n",
    "Transforming the data to a specific scale (in our case 0-1) enables us to use algorithms that require as input scalled data, like SVM or K-NN. By scalling all data, we make that a change of the same order of magnitude in different columns with different types (for example, Euros and U.S. dollars) is compared on an equal footing."
   ]
  },
  {
   "cell_type": "code",
   "execution_count": 6,
   "metadata": {
    "colab": {
     "base_uri": "https://localhost:8080/",
     "height": 325
    },
    "id": "C_adnDa6XyK0",
    "outputId": "c3f3c5c7-b446-40ea-f315-0e00829537d9"
   },
   "outputs": [
    {
     "data": {
      "text/html": [
       "<div>\n",
       "<style scoped>\n",
       "    .dataframe tbody tr th:only-of-type {\n",
       "        vertical-align: middle;\n",
       "    }\n",
       "\n",
       "    .dataframe tbody tr th {\n",
       "        vertical-align: top;\n",
       "    }\n",
       "\n",
       "    .dataframe thead th {\n",
       "        text-align: right;\n",
       "    }\n",
       "</style>\n",
       "<table border=\"1\" class=\"dataframe\">\n",
       "  <thead>\n",
       "    <tr style=\"text-align: right;\">\n",
       "      <th></th>\n",
       "      <th>Revenue</th>\n",
       "      <th>Revenue Growth</th>\n",
       "      <th>SG&amp;A Expense</th>\n",
       "      <th>Operating Expenses</th>\n",
       "      <th>Operating Income</th>\n",
       "      <th>EPS</th>\n",
       "      <th>Weighted Average Shs Out</th>\n",
       "      <th>Gross Margin</th>\n",
       "      <th>EBITDA Margin</th>\n",
       "      <th>EBIT Margin</th>\n",
       "      <th>...</th>\n",
       "      <th>Net Income Growth</th>\n",
       "      <th>EPS Growth</th>\n",
       "      <th>Weighted Average Shares Growth</th>\n",
       "      <th>Operating Cash Flow growth</th>\n",
       "      <th>Free Cash Flow growth</th>\n",
       "      <th>Receivables growth</th>\n",
       "      <th>Asset Growth</th>\n",
       "      <th>Book Value per Share Growth</th>\n",
       "      <th>SG&amp;A Expenses Growth</th>\n",
       "      <th>class</th>\n",
       "    </tr>\n",
       "  </thead>\n",
       "  <tbody>\n",
       "    <tr>\n",
       "      <th>0</th>\n",
       "      <td>0.266752</td>\n",
       "      <td>0.035172</td>\n",
       "      <td>0.275949</td>\n",
       "      <td>0.251156</td>\n",
       "      <td>0.340663</td>\n",
       "      <td>0.702372</td>\n",
       "      <td>0.594023</td>\n",
       "      <td>0.958234</td>\n",
       "      <td>0.742368</td>\n",
       "      <td>0.590496</td>\n",
       "      <td>...</td>\n",
       "      <td>0.393916</td>\n",
       "      <td>0.581526</td>\n",
       "      <td>0.001182</td>\n",
       "      <td>0.728769</td>\n",
       "      <td>0.178780</td>\n",
       "      <td>0.042847</td>\n",
       "      <td>0.199783</td>\n",
       "      <td>0.433673</td>\n",
       "      <td>0.211729</td>\n",
       "      <td>1</td>\n",
       "    </tr>\n",
       "    <tr>\n",
       "      <th>1</th>\n",
       "      <td>0.114426</td>\n",
       "      <td>0.047020</td>\n",
       "      <td>0.033208</td>\n",
       "      <td>0.035636</td>\n",
       "      <td>0.225346</td>\n",
       "      <td>0.760171</td>\n",
       "      <td>0.150953</td>\n",
       "      <td>0.955113</td>\n",
       "      <td>0.742530</td>\n",
       "      <td>0.590722</td>\n",
       "      <td>...</td>\n",
       "      <td>0.395803</td>\n",
       "      <td>0.583167</td>\n",
       "      <td>0.001835</td>\n",
       "      <td>0.731735</td>\n",
       "      <td>0.184937</td>\n",
       "      <td>0.052082</td>\n",
       "      <td>0.241678</td>\n",
       "      <td>0.447246</td>\n",
       "      <td>0.284560</td>\n",
       "      <td>1</td>\n",
       "    </tr>\n",
       "    <tr>\n",
       "      <th>2</th>\n",
       "      <td>1.000000</td>\n",
       "      <td>0.036132</td>\n",
       "      <td>0.682969</td>\n",
       "      <td>0.380536</td>\n",
       "      <td>1.000000</td>\n",
       "      <td>0.758219</td>\n",
       "      <td>0.628634</td>\n",
       "      <td>0.932708</td>\n",
       "      <td>0.742245</td>\n",
       "      <td>0.590419</td>\n",
       "      <td>...</td>\n",
       "      <td>0.390812</td>\n",
       "      <td>0.577524</td>\n",
       "      <td>0.000919</td>\n",
       "      <td>0.728306</td>\n",
       "      <td>0.178001</td>\n",
       "      <td>0.049084</td>\n",
       "      <td>0.185663</td>\n",
       "      <td>0.427119</td>\n",
       "      <td>0.284715</td>\n",
       "      <td>1</td>\n",
       "    </tr>\n",
       "    <tr>\n",
       "      <th>3</th>\n",
       "      <td>0.415520</td>\n",
       "      <td>0.035621</td>\n",
       "      <td>0.908579</td>\n",
       "      <td>0.454426</td>\n",
       "      <td>0.503370</td>\n",
       "      <td>0.684207</td>\n",
       "      <td>1.000000</td>\n",
       "      <td>0.962076</td>\n",
       "      <td>0.742339</td>\n",
       "      <td>0.590501</td>\n",
       "      <td>...</td>\n",
       "      <td>0.388936</td>\n",
       "      <td>0.574803</td>\n",
       "      <td>0.001294</td>\n",
       "      <td>0.727956</td>\n",
       "      <td>0.176836</td>\n",
       "      <td>0.042193</td>\n",
       "      <td>0.198876</td>\n",
       "      <td>0.429823</td>\n",
       "      <td>0.292369</td>\n",
       "      <td>1</td>\n",
       "    </tr>\n",
       "    <tr>\n",
       "      <th>4</th>\n",
       "      <td>0.220155</td>\n",
       "      <td>0.034991</td>\n",
       "      <td>0.198633</td>\n",
       "      <td>0.081239</td>\n",
       "      <td>0.073891</td>\n",
       "      <td>0.692839</td>\n",
       "      <td>0.205956</td>\n",
       "      <td>0.910782</td>\n",
       "      <td>0.742035</td>\n",
       "      <td>0.590119</td>\n",
       "      <td>...</td>\n",
       "      <td>0.393645</td>\n",
       "      <td>0.581356</td>\n",
       "      <td>0.000978</td>\n",
       "      <td>0.728401</td>\n",
       "      <td>0.178022</td>\n",
       "      <td>0.041400</td>\n",
       "      <td>0.202815</td>\n",
       "      <td>0.451393</td>\n",
       "      <td>0.290823</td>\n",
       "      <td>1</td>\n",
       "    </tr>\n",
       "  </tbody>\n",
       "</table>\n",
       "<p>5 rows × 60 columns</p>\n",
       "</div>"
      ],
      "text/plain": [
       "    Revenue  Revenue Growth  SG&A Expense  Operating Expenses  \\\n",
       "0  0.266752        0.035172      0.275949            0.251156   \n",
       "1  0.114426        0.047020      0.033208            0.035636   \n",
       "2  1.000000        0.036132      0.682969            0.380536   \n",
       "3  0.415520        0.035621      0.908579            0.454426   \n",
       "4  0.220155        0.034991      0.198633            0.081239   \n",
       "\n",
       "   Operating Income       EPS  Weighted Average Shs Out  Gross Margin  \\\n",
       "0          0.340663  0.702372                  0.594023      0.958234   \n",
       "1          0.225346  0.760171                  0.150953      0.955113   \n",
       "2          1.000000  0.758219                  0.628634      0.932708   \n",
       "3          0.503370  0.684207                  1.000000      0.962076   \n",
       "4          0.073891  0.692839                  0.205956      0.910782   \n",
       "\n",
       "   EBITDA Margin  EBIT Margin  ...  Net Income Growth  EPS Growth  \\\n",
       "0       0.742368     0.590496  ...           0.393916    0.581526   \n",
       "1       0.742530     0.590722  ...           0.395803    0.583167   \n",
       "2       0.742245     0.590419  ...           0.390812    0.577524   \n",
       "3       0.742339     0.590501  ...           0.388936    0.574803   \n",
       "4       0.742035     0.590119  ...           0.393645    0.581356   \n",
       "\n",
       "   Weighted Average Shares Growth  Operating Cash Flow growth  \\\n",
       "0                        0.001182                    0.728769   \n",
       "1                        0.001835                    0.731735   \n",
       "2                        0.000919                    0.728306   \n",
       "3                        0.001294                    0.727956   \n",
       "4                        0.000978                    0.728401   \n",
       "\n",
       "   Free Cash Flow growth  Receivables growth  Asset Growth  \\\n",
       "0               0.178780            0.042847      0.199783   \n",
       "1               0.184937            0.052082      0.241678   \n",
       "2               0.178001            0.049084      0.185663   \n",
       "3               0.176836            0.042193      0.198876   \n",
       "4               0.178022            0.041400      0.202815   \n",
       "\n",
       "   Book Value per Share Growth  SG&A Expenses Growth  class  \n",
       "0                     0.433673              0.211729      1  \n",
       "1                     0.447246              0.284560      1  \n",
       "2                     0.427119              0.284715      1  \n",
       "3                     0.429823              0.292369      1  \n",
       "4                     0.451393              0.290823      1  \n",
       "\n",
       "[5 rows x 60 columns]"
      ]
     },
     "execution_count": 6,
     "metadata": {},
     "output_type": "execute_result"
    }
   ],
   "source": [
    "scaler = MinMaxScaler()\n",
    "columns = list(reduced_data)    # list of columns names\n",
    "\n",
    "scaler.fit(reduced_data.loc[:,'Revenue':'SG&A Expenses Growth'])                               # compute columns to be used for scaling (we do not include the identifier column and the class)\n",
    "scaled_data = pd.DataFrame(scaler.transform(reduced_data.loc[:, 'Revenue' : 'SG&A Expenses Growth']), columns=columns[0 : -1])   #scaling stock_data\n",
    "\n",
    "scaled_data = pd.concat([scaled_data, reduced_data.loc[:, 'class']], axis=1)                   # adding class column\n",
    "\n",
    "scaled_data.head()\n",
    "\n"
   ]
  },
  {
   "cell_type": "markdown",
   "metadata": {
    "id": "Kp0AsesPCBz3"
   },
   "source": [
    "As we can see, all data is now scalled from 0 to 1."
   ]
  },
  {
   "cell_type": "markdown",
   "metadata": {
    "id": "crSCdfSIho27"
   },
   "source": [
    "### Statistical Analysis and Plotting"
   ]
  },
  {
   "cell_type": "markdown",
   "metadata": {
    "id": "Fbj8N5oqCNxP"
   },
   "source": [
    "We start by visualizing some basic statistics about our data."
   ]
  },
  {
   "cell_type": "code",
   "execution_count": 7,
   "metadata": {
    "colab": {
     "base_uri": "https://localhost:8080/",
     "height": 419
    },
    "id": "sHIn3tmzdIEH",
    "outputId": "d5ae9dab-7a44-4435-ce34-604961ac6cb1"
   },
   "outputs": [
    {
     "data": {
      "text/html": [
       "<div>\n",
       "<style scoped>\n",
       "    .dataframe tbody tr th:only-of-type {\n",
       "        vertical-align: middle;\n",
       "    }\n",
       "\n",
       "    .dataframe tbody tr th {\n",
       "        vertical-align: top;\n",
       "    }\n",
       "\n",
       "    .dataframe thead th {\n",
       "        text-align: right;\n",
       "    }\n",
       "</style>\n",
       "<table border=\"1\" class=\"dataframe\">\n",
       "  <thead>\n",
       "    <tr style=\"text-align: right;\">\n",
       "      <th></th>\n",
       "      <th>Revenue</th>\n",
       "      <th>Revenue Growth</th>\n",
       "      <th>Cost of Revenue</th>\n",
       "      <th>Gross Profit</th>\n",
       "      <th>SG&amp;A Expense</th>\n",
       "      <th>Operating Expenses</th>\n",
       "      <th>Operating Income</th>\n",
       "      <th>Earnings before Tax</th>\n",
       "      <th>Net Income</th>\n",
       "      <th>Net Income Com</th>\n",
       "      <th>...</th>\n",
       "      <th>EPS Diluted Growth</th>\n",
       "      <th>Weighted Average Shares Growth</th>\n",
       "      <th>Weighted Average Shares Diluted Growth</th>\n",
       "      <th>Operating Cash Flow growth</th>\n",
       "      <th>Free Cash Flow growth</th>\n",
       "      <th>Receivables growth</th>\n",
       "      <th>Asset Growth</th>\n",
       "      <th>Book Value per Share Growth</th>\n",
       "      <th>SG&amp;A Expenses Growth</th>\n",
       "      <th>class</th>\n",
       "    </tr>\n",
       "  </thead>\n",
       "  <tbody>\n",
       "    <tr>\n",
       "      <th>count</th>\n",
       "      <td>6.380000e+02</td>\n",
       "      <td>638.000000</td>\n",
       "      <td>6.380000e+02</td>\n",
       "      <td>6.380000e+02</td>\n",
       "      <td>6.380000e+02</td>\n",
       "      <td>6.380000e+02</td>\n",
       "      <td>6.380000e+02</td>\n",
       "      <td>6.380000e+02</td>\n",
       "      <td>6.380000e+02</td>\n",
       "      <td>6.380000e+02</td>\n",
       "      <td>...</td>\n",
       "      <td>638.000000</td>\n",
       "      <td>638.000000</td>\n",
       "      <td>638.000000</td>\n",
       "      <td>638.000000</td>\n",
       "      <td>638.000000</td>\n",
       "      <td>638.000000</td>\n",
       "      <td>638.000000</td>\n",
       "      <td>638.000000</td>\n",
       "      <td>638.000000</td>\n",
       "      <td>638.000000</td>\n",
       "    </tr>\n",
       "    <tr>\n",
       "      <th>mean</th>\n",
       "      <td>4.313656e+09</td>\n",
       "      <td>0.200593</td>\n",
       "      <td>2.418867e+09</td>\n",
       "      <td>1.893674e+09</td>\n",
       "      <td>6.838895e+08</td>\n",
       "      <td>1.209286e+09</td>\n",
       "      <td>6.849852e+08</td>\n",
       "      <td>6.876940e+08</td>\n",
       "      <td>5.387035e+08</td>\n",
       "      <td>5.365020e+08</td>\n",
       "      <td>...</td>\n",
       "      <td>0.367957</td>\n",
       "      <td>0.327554</td>\n",
       "      <td>0.354594</td>\n",
       "      <td>0.024223</td>\n",
       "      <td>0.342144</td>\n",
       "      <td>0.282030</td>\n",
       "      <td>0.160931</td>\n",
       "      <td>0.134593</td>\n",
       "      <td>0.112316</td>\n",
       "      <td>0.706897</td>\n",
       "    </tr>\n",
       "    <tr>\n",
       "      <th>std</th>\n",
       "      <td>1.832010e+10</td>\n",
       "      <td>1.236156</td>\n",
       "      <td>1.060182e+10</td>\n",
       "      <td>8.412074e+09</td>\n",
       "      <td>2.367724e+09</td>\n",
       "      <td>5.087444e+09</td>\n",
       "      <td>4.005216e+09</td>\n",
       "      <td>4.214649e+09</td>\n",
       "      <td>3.416454e+09</td>\n",
       "      <td>3.416642e+09</td>\n",
       "      <td>...</td>\n",
       "      <td>9.258839</td>\n",
       "      <td>4.700736</td>\n",
       "      <td>4.719772</td>\n",
       "      <td>10.419881</td>\n",
       "      <td>6.941349</td>\n",
       "      <td>1.567491</td>\n",
       "      <td>0.453783</td>\n",
       "      <td>1.487802</td>\n",
       "      <td>0.231320</td>\n",
       "      <td>0.455543</td>\n",
       "    </tr>\n",
       "    <tr>\n",
       "      <th>min</th>\n",
       "      <td>0.000000e+00</td>\n",
       "      <td>-0.959300</td>\n",
       "      <td>0.000000e+00</td>\n",
       "      <td>-2.970810e+08</td>\n",
       "      <td>7.926000e+05</td>\n",
       "      <td>-6.190000e+05</td>\n",
       "      <td>-1.268450e+09</td>\n",
       "      <td>-1.326000e+09</td>\n",
       "      <td>-4.964000e+09</td>\n",
       "      <td>-4.964000e+09</td>\n",
       "      <td>...</td>\n",
       "      <td>-136.000000</td>\n",
       "      <td>-0.158700</td>\n",
       "      <td>-0.229800</td>\n",
       "      <td>-197.027800</td>\n",
       "      <td>-31.936200</td>\n",
       "      <td>-1.000000</td>\n",
       "      <td>-0.864500</td>\n",
       "      <td>-17.090900</td>\n",
       "      <td>-0.641900</td>\n",
       "      <td>0.000000</td>\n",
       "    </tr>\n",
       "    <tr>\n",
       "      <th>25%</th>\n",
       "      <td>1.027300e+08</td>\n",
       "      <td>0.008600</td>\n",
       "      <td>4.501450e+07</td>\n",
       "      <td>3.723250e+07</td>\n",
       "      <td>2.861450e+07</td>\n",
       "      <td>4.583850e+07</td>\n",
       "      <td>-9.972250e+06</td>\n",
       "      <td>-1.322625e+07</td>\n",
       "      <td>-1.706438e+07</td>\n",
       "      <td>-1.767875e+07</td>\n",
       "      <td>...</td>\n",
       "      <td>-0.259475</td>\n",
       "      <td>-0.000375</td>\n",
       "      <td>-0.002425</td>\n",
       "      <td>-0.217250</td>\n",
       "      <td>-0.316125</td>\n",
       "      <td>-0.037050</td>\n",
       "      <td>-0.032350</td>\n",
       "      <td>-0.106900</td>\n",
       "      <td>-0.013300</td>\n",
       "      <td>0.000000</td>\n",
       "    </tr>\n",
       "    <tr>\n",
       "      <th>50%</th>\n",
       "      <td>4.539775e+08</td>\n",
       "      <td>0.100800</td>\n",
       "      <td>1.950135e+08</td>\n",
       "      <td>2.097740e+08</td>\n",
       "      <td>1.291985e+08</td>\n",
       "      <td>1.934000e+08</td>\n",
       "      <td>8.819500e+06</td>\n",
       "      <td>6.248500e+06</td>\n",
       "      <td>4.420444e+06</td>\n",
       "      <td>4.163274e+06</td>\n",
       "      <td>...</td>\n",
       "      <td>0.264250</td>\n",
       "      <td>0.014350</td>\n",
       "      <td>0.016250</td>\n",
       "      <td>0.118200</td>\n",
       "      <td>0.126250</td>\n",
       "      <td>0.099400</td>\n",
       "      <td>0.054200</td>\n",
       "      <td>0.035150</td>\n",
       "      <td>0.079900</td>\n",
       "      <td>1.000000</td>\n",
       "    </tr>\n",
       "    <tr>\n",
       "      <th>75%</th>\n",
       "      <td>1.896714e+09</td>\n",
       "      <td>0.231325</td>\n",
       "      <td>9.058808e+08</td>\n",
       "      <td>8.405540e+08</td>\n",
       "      <td>4.252228e+08</td>\n",
       "      <td>6.439558e+08</td>\n",
       "      <td>1.660810e+08</td>\n",
       "      <td>1.378770e+08</td>\n",
       "      <td>1.100322e+08</td>\n",
       "      <td>1.090343e+08</td>\n",
       "      <td>...</td>\n",
       "      <td>0.791325</td>\n",
       "      <td>0.060050</td>\n",
       "      <td>0.078225</td>\n",
       "      <td>0.497250</td>\n",
       "      <td>0.589150</td>\n",
       "      <td>0.282983</td>\n",
       "      <td>0.211925</td>\n",
       "      <td>0.174850</td>\n",
       "      <td>0.188800</td>\n",
       "      <td>1.000000</td>\n",
       "    </tr>\n",
       "    <tr>\n",
       "      <th>max</th>\n",
       "      <td>2.655950e+11</td>\n",
       "      <td>29.980400</td>\n",
       "      <td>1.637560e+11</td>\n",
       "      <td>1.018390e+11</td>\n",
       "      <td>2.445900e+10</td>\n",
       "      <td>8.131000e+10</td>\n",
       "      <td>7.089800e+10</td>\n",
       "      <td>7.290300e+10</td>\n",
       "      <td>5.953100e+10</td>\n",
       "      <td>5.953100e+10</td>\n",
       "      <td>...</td>\n",
       "      <td>100.000000</td>\n",
       "      <td>117.904200</td>\n",
       "      <td>117.904200</td>\n",
       "      <td>73.783500</td>\n",
       "      <td>148.819100</td>\n",
       "      <td>26.980800</td>\n",
       "      <td>3.653900</td>\n",
       "      <td>22.552600</td>\n",
       "      <td>1.944900</td>\n",
       "      <td>1.000000</td>\n",
       "    </tr>\n",
       "  </tbody>\n",
       "</table>\n",
       "<p>8 rows × 108 columns</p>\n",
       "</div>"
      ],
      "text/plain": [
       "            Revenue  Revenue Growth  Cost of Revenue  Gross Profit  \\\n",
       "count  6.380000e+02      638.000000     6.380000e+02  6.380000e+02   \n",
       "mean   4.313656e+09        0.200593     2.418867e+09  1.893674e+09   \n",
       "std    1.832010e+10        1.236156     1.060182e+10  8.412074e+09   \n",
       "min    0.000000e+00       -0.959300     0.000000e+00 -2.970810e+08   \n",
       "25%    1.027300e+08        0.008600     4.501450e+07  3.723250e+07   \n",
       "50%    4.539775e+08        0.100800     1.950135e+08  2.097740e+08   \n",
       "75%    1.896714e+09        0.231325     9.058808e+08  8.405540e+08   \n",
       "max    2.655950e+11       29.980400     1.637560e+11  1.018390e+11   \n",
       "\n",
       "       SG&A Expense  Operating Expenses  Operating Income  \\\n",
       "count  6.380000e+02        6.380000e+02      6.380000e+02   \n",
       "mean   6.838895e+08        1.209286e+09      6.849852e+08   \n",
       "std    2.367724e+09        5.087444e+09      4.005216e+09   \n",
       "min    7.926000e+05       -6.190000e+05     -1.268450e+09   \n",
       "25%    2.861450e+07        4.583850e+07     -9.972250e+06   \n",
       "50%    1.291985e+08        1.934000e+08      8.819500e+06   \n",
       "75%    4.252228e+08        6.439558e+08      1.660810e+08   \n",
       "max    2.445900e+10        8.131000e+10      7.089800e+10   \n",
       "\n",
       "       Earnings before Tax    Net Income  Net Income Com  ...  \\\n",
       "count         6.380000e+02  6.380000e+02    6.380000e+02  ...   \n",
       "mean          6.876940e+08  5.387035e+08    5.365020e+08  ...   \n",
       "std           4.214649e+09  3.416454e+09    3.416642e+09  ...   \n",
       "min          -1.326000e+09 -4.964000e+09   -4.964000e+09  ...   \n",
       "25%          -1.322625e+07 -1.706438e+07   -1.767875e+07  ...   \n",
       "50%           6.248500e+06  4.420444e+06    4.163274e+06  ...   \n",
       "75%           1.378770e+08  1.100322e+08    1.090343e+08  ...   \n",
       "max           7.290300e+10  5.953100e+10    5.953100e+10  ...   \n",
       "\n",
       "       EPS Diluted Growth  Weighted Average Shares Growth  \\\n",
       "count          638.000000                      638.000000   \n",
       "mean             0.367957                        0.327554   \n",
       "std              9.258839                        4.700736   \n",
       "min           -136.000000                       -0.158700   \n",
       "25%             -0.259475                       -0.000375   \n",
       "50%              0.264250                        0.014350   \n",
       "75%              0.791325                        0.060050   \n",
       "max            100.000000                      117.904200   \n",
       "\n",
       "       Weighted Average Shares Diluted Growth  Operating Cash Flow growth  \\\n",
       "count                              638.000000                  638.000000   \n",
       "mean                                 0.354594                    0.024223   \n",
       "std                                  4.719772                   10.419881   \n",
       "min                                 -0.229800                 -197.027800   \n",
       "25%                                 -0.002425                   -0.217250   \n",
       "50%                                  0.016250                    0.118200   \n",
       "75%                                  0.078225                    0.497250   \n",
       "max                                117.904200                   73.783500   \n",
       "\n",
       "       Free Cash Flow growth  Receivables growth  Asset Growth  \\\n",
       "count             638.000000          638.000000    638.000000   \n",
       "mean                0.342144            0.282030      0.160931   \n",
       "std                 6.941349            1.567491      0.453783   \n",
       "min               -31.936200           -1.000000     -0.864500   \n",
       "25%                -0.316125           -0.037050     -0.032350   \n",
       "50%                 0.126250            0.099400      0.054200   \n",
       "75%                 0.589150            0.282983      0.211925   \n",
       "max               148.819100           26.980800      3.653900   \n",
       "\n",
       "       Book Value per Share Growth  SG&A Expenses Growth       class  \n",
       "count                   638.000000            638.000000  638.000000  \n",
       "mean                      0.134593              0.112316    0.706897  \n",
       "std                       1.487802              0.231320    0.455543  \n",
       "min                     -17.090900             -0.641900    0.000000  \n",
       "25%                      -0.106900             -0.013300    0.000000  \n",
       "50%                       0.035150              0.079900    1.000000  \n",
       "75%                       0.174850              0.188800    1.000000  \n",
       "max                      22.552600              1.944900    1.000000  \n",
       "\n",
       "[8 rows x 108 columns]"
      ]
     },
     "execution_count": 7,
     "metadata": {},
     "output_type": "execute_result"
    }
   ],
   "source": [
    "stock_data.describe()"
   ]
  },
  {
   "cell_type": "markdown",
   "metadata": {
    "id": "5w9UAsnNIvpM"
   },
   "source": [
    "Everything seems correct. Even so, we are going create some graphics to see data correlation"
   ]
  },
  {
   "cell_type": "markdown",
   "metadata": {
    "id": "xLFUuvTgNgtG"
   },
   "source": [
    "Firstly, we are going to verify if there is any correlation between the Net Income (which is calculated as revenues minus expenses, interest, and taxes) and the class. For this purpose, we are going to use **stripplot**"
   ]
  },
  {
   "cell_type": "code",
   "execution_count": 8,
   "metadata": {
    "colab": {
     "base_uri": "https://localhost:8080/",
     "height": 308
    },
    "id": "KTkk7pZPn0DX",
    "outputId": "9bf3874a-f2d9-4e56-d3a6-ae8b216508da"
   },
   "outputs": [
    {
     "data": {
      "text/plain": [
       "<AxesSubplot:xlabel='class', ylabel='Net Income'>"
      ]
     },
     "execution_count": 8,
     "metadata": {},
     "output_type": "execute_result"
    },
    {
     "data": {
      "image/png": "[encoded data removed]",
      "text/plain": [
       "<Figure size 432x288 with 1 Axes>"
      ]
     },
     "metadata": {
      "needs_background": "light"
     },
     "output_type": "display_data"
    }
   ],
   "source": [
    "sb.stripplot(x=stock_data['class'], y=stock_data['Net Income'])"
   ]
  },
  {
   "cell_type": "markdown",
   "metadata": {
    "id": "2kD5WtoKS13w"
   },
   "source": [
    "It seems that there is little correlation between the two, only that companies with high Net Income tend to be of class 1. "
   ]
  },
  {
   "cell_type": "markdown",
   "metadata": {
    "id": "8ZmrGeK6uPhf"
   },
   "source": [
    "Next, we are going to see how the Net debt (which is a liquidity metric used to determine how well a company can pay all of its debts if they were due immediately) influences the class."
   ]
  },
  {
   "cell_type": "code",
   "execution_count": 9,
   "metadata": {
    "colab": {
     "base_uri": "https://localhost:8080/",
     "height": 308
    },
    "id": "3upXQoaJt96p",
    "outputId": "66212fc3-74fc-48e6-a0e3-4ea6346a683f"
   },
   "outputs": [
    {
     "data": {
      "text/plain": [
       "<AxesSubplot:xlabel='class', ylabel='Net Debt'>"
      ]
     },
     "execution_count": 9,
     "metadata": {},
     "output_type": "execute_result"
    },
    {
     "data": {
      "image/png": "[encoded data removed]",
      "text/plain": [
       "<Figure size 432x288 with 1 Axes>"
      ]
     },
     "metadata": {
      "needs_background": "light"
     },
     "output_type": "display_data"
    }
   ],
   "source": [
    "sb.stripplot(x=stock_data['class'], y=stock_data['Net Debt'])"
   ]
  },
  {
   "cell_type": "markdown",
   "metadata": {
    "id": "4EFMxtQBVyl8"
   },
   "source": [
    "Again, there is little correlation between the two. Interesting enough, companies with negative Net Debt had their stock increased in 2019."
   ]
  },
  {
   "cell_type": "markdown",
   "metadata": {
    "id": "kpVTVIcmWYZV"
   },
   "source": [
    "Now, we will see how the Revenue influences the Net Income and vice-versa."
   ]
  },
  {
   "cell_type": "code",
   "execution_count": 10,
   "metadata": {
    "colab": {
     "base_uri": "https://localhost:8080/",
     "height": 308
    },
    "id": "nmaDu-XXW1cr",
    "outputId": "36f12da2-d915-4fe5-bdf0-0e3f5ad35ebd"
   },
   "outputs": [
    {
     "data": {
      "text/plain": [
       "<AxesSubplot:xlabel='Revenue', ylabel='Net Income'>"
      ]
     },
     "execution_count": 10,
     "metadata": {},
     "output_type": "execute_result"
    },
    {
     "data": {
      "image/png": "[encoded data removed]",
      "text/plain": [
       "<Figure size 432x288 with 1 Axes>"
      ]
     },
     "metadata": {
      "needs_background": "light"
     },
     "output_type": "display_data"
    }
   ],
   "source": [
    "sb.scatterplot(x=stock_data['Revenue'], y=stock_data['Net Income'], hue=stock_data['class'])"
   ]
  },
  {
   "cell_type": "markdown",
   "metadata": {
    "id": "NjV4sRN7Zz2B"
   },
   "source": [
    "The Revenue and Net Income are linear dependent, which makes sense, since Net Income is Revenue minus expenses. "
   ]
  },
  {
   "cell_type": "markdown",
   "metadata": {},
   "source": [
    "### Class Representation"
   ]
  },
  {
   "cell_type": "markdown",
   "metadata": {},
   "source": [
    "In this subsection we will see the class representation of the dataset. "
   ]
  },
  {
   "cell_type": "code",
   "execution_count": 11,
   "metadata": {},
   "outputs": [
    {
     "data": {
      "text/plain": [
       "1    451\n",
       "0    187\n",
       "Name: class, dtype: int64"
      ]
     },
     "execution_count": 11,
     "metadata": {},
     "output_type": "execute_result"
    }
   ],
   "source": [
    "scaled_data['class'].value_counts()"
   ]
  },
  {
   "cell_type": "markdown",
   "metadata": {},
   "source": [
    "As we can see, the dataset is unbalanced. Only 30% of the data is of class 0. To solve this, we will use SMOTE oversampling in the Learning Algorithm section."
   ]
  },
  {
   "cell_type": "markdown",
   "metadata": {
    "id": "oEtmsRd1fmYL"
   },
   "source": [
    "### Saving the Clean Data"
   ]
  },
  {
   "cell_type": "markdown",
   "metadata": {
    "id": "KrKv2eSDf7ya"
   },
   "source": [
    "Now that we have cleaned all data, we need to save it for futher use."
   ]
  },
  {
   "cell_type": "code",
   "execution_count": 12,
   "metadata": {
    "id": "d1QqPXxMf_fi"
   },
   "outputs": [],
   "source": [
    "scaled_data.to_csv('data/Example_DATASET_clean.csv', index=False)"
   ]
  },
  {
   "cell_type": "code",
   "execution_count": 13,
   "metadata": {
    "colab": {
     "base_uri": "https://localhost:8080/",
     "height": 325
    },
    "id": "vi5JzdS-gW1p",
    "outputId": "5e9a230b-894f-4907-911c-8a11db2b3ae8"
   },
   "outputs": [
    {
     "data": {
      "text/html": [
       "<div>\n",
       "<style scoped>\n",
       "    .dataframe tbody tr th:only-of-type {\n",
       "        vertical-align: middle;\n",
       "    }\n",
       "\n",
       "    .dataframe tbody tr th {\n",
       "        vertical-align: top;\n",
       "    }\n",
       "\n",
       "    .dataframe thead th {\n",
       "        text-align: right;\n",
       "    }\n",
       "</style>\n",
       "<table border=\"1\" class=\"dataframe\">\n",
       "  <thead>\n",
       "    <tr style=\"text-align: right;\">\n",
       "      <th></th>\n",
       "      <th>Revenue</th>\n",
       "      <th>Revenue Growth</th>\n",
       "      <th>SG&amp;A Expense</th>\n",
       "      <th>Operating Expenses</th>\n",
       "      <th>Operating Income</th>\n",
       "      <th>EPS</th>\n",
       "      <th>Weighted Average Shs Out</th>\n",
       "      <th>Gross Margin</th>\n",
       "      <th>EBITDA Margin</th>\n",
       "      <th>EBIT Margin</th>\n",
       "      <th>...</th>\n",
       "      <th>Net Income Growth</th>\n",
       "      <th>EPS Growth</th>\n",
       "      <th>Weighted Average Shares Growth</th>\n",
       "      <th>Operating Cash Flow growth</th>\n",
       "      <th>Free Cash Flow growth</th>\n",
       "      <th>Receivables growth</th>\n",
       "      <th>Asset Growth</th>\n",
       "      <th>Book Value per Share Growth</th>\n",
       "      <th>SG&amp;A Expenses Growth</th>\n",
       "      <th>class</th>\n",
       "    </tr>\n",
       "  </thead>\n",
       "  <tbody>\n",
       "    <tr>\n",
       "      <th>0</th>\n",
       "      <td>0.266752</td>\n",
       "      <td>0.035172</td>\n",
       "      <td>0.275949</td>\n",
       "      <td>0.251156</td>\n",
       "      <td>0.340663</td>\n",
       "      <td>0.702372</td>\n",
       "      <td>0.594023</td>\n",
       "      <td>0.958234</td>\n",
       "      <td>0.742368</td>\n",
       "      <td>0.590496</td>\n",
       "      <td>...</td>\n",
       "      <td>0.393916</td>\n",
       "      <td>0.581526</td>\n",
       "      <td>0.001182</td>\n",
       "      <td>0.728769</td>\n",
       "      <td>0.178780</td>\n",
       "      <td>0.042847</td>\n",
       "      <td>0.199783</td>\n",
       "      <td>0.433673</td>\n",
       "      <td>0.211729</td>\n",
       "      <td>1</td>\n",
       "    </tr>\n",
       "    <tr>\n",
       "      <th>1</th>\n",
       "      <td>0.114426</td>\n",
       "      <td>0.047020</td>\n",
       "      <td>0.033208</td>\n",
       "      <td>0.035636</td>\n",
       "      <td>0.225346</td>\n",
       "      <td>0.760171</td>\n",
       "      <td>0.150953</td>\n",
       "      <td>0.955113</td>\n",
       "      <td>0.742530</td>\n",
       "      <td>0.590722</td>\n",
       "      <td>...</td>\n",
       "      <td>0.395803</td>\n",
       "      <td>0.583167</td>\n",
       "      <td>0.001835</td>\n",
       "      <td>0.731735</td>\n",
       "      <td>0.184937</td>\n",
       "      <td>0.052082</td>\n",
       "      <td>0.241678</td>\n",
       "      <td>0.447246</td>\n",
       "      <td>0.284560</td>\n",
       "      <td>1</td>\n",
       "    </tr>\n",
       "    <tr>\n",
       "      <th>2</th>\n",
       "      <td>1.000000</td>\n",
       "      <td>0.036132</td>\n",
       "      <td>0.682969</td>\n",
       "      <td>0.380536</td>\n",
       "      <td>1.000000</td>\n",
       "      <td>0.758219</td>\n",
       "      <td>0.628634</td>\n",
       "      <td>0.932708</td>\n",
       "      <td>0.742245</td>\n",
       "      <td>0.590419</td>\n",
       "      <td>...</td>\n",
       "      <td>0.390812</td>\n",
       "      <td>0.577524</td>\n",
       "      <td>0.000919</td>\n",
       "      <td>0.728306</td>\n",
       "      <td>0.178001</td>\n",
       "      <td>0.049084</td>\n",
       "      <td>0.185663</td>\n",
       "      <td>0.427119</td>\n",
       "      <td>0.284715</td>\n",
       "      <td>1</td>\n",
       "    </tr>\n",
       "    <tr>\n",
       "      <th>3</th>\n",
       "      <td>0.415520</td>\n",
       "      <td>0.035621</td>\n",
       "      <td>0.908579</td>\n",
       "      <td>0.454426</td>\n",
       "      <td>0.503370</td>\n",
       "      <td>0.684207</td>\n",
       "      <td>1.000000</td>\n",
       "      <td>0.962076</td>\n",
       "      <td>0.742339</td>\n",
       "      <td>0.590501</td>\n",
       "      <td>...</td>\n",
       "      <td>0.388936</td>\n",
       "      <td>0.574803</td>\n",
       "      <td>0.001294</td>\n",
       "      <td>0.727956</td>\n",
       "      <td>0.176836</td>\n",
       "      <td>0.042193</td>\n",
       "      <td>0.198876</td>\n",
       "      <td>0.429823</td>\n",
       "      <td>0.292369</td>\n",
       "      <td>1</td>\n",
       "    </tr>\n",
       "    <tr>\n",
       "      <th>4</th>\n",
       "      <td>0.220155</td>\n",
       "      <td>0.034991</td>\n",
       "      <td>0.198633</td>\n",
       "      <td>0.081239</td>\n",
       "      <td>0.073891</td>\n",
       "      <td>0.692839</td>\n",
       "      <td>0.205956</td>\n",
       "      <td>0.910782</td>\n",
       "      <td>0.742035</td>\n",
       "      <td>0.590119</td>\n",
       "      <td>...</td>\n",
       "      <td>0.393645</td>\n",
       "      <td>0.581356</td>\n",
       "      <td>0.000978</td>\n",
       "      <td>0.728401</td>\n",
       "      <td>0.178022</td>\n",
       "      <td>0.041400</td>\n",
       "      <td>0.202815</td>\n",
       "      <td>0.451393</td>\n",
       "      <td>0.290823</td>\n",
       "      <td>1</td>\n",
       "    </tr>\n",
       "  </tbody>\n",
       "</table>\n",
       "<p>5 rows × 60 columns</p>\n",
       "</div>"
      ],
      "text/plain": [
       "    Revenue  Revenue Growth  SG&A Expense  Operating Expenses  \\\n",
       "0  0.266752        0.035172      0.275949            0.251156   \n",
       "1  0.114426        0.047020      0.033208            0.035636   \n",
       "2  1.000000        0.036132      0.682969            0.380536   \n",
       "3  0.415520        0.035621      0.908579            0.454426   \n",
       "4  0.220155        0.034991      0.198633            0.081239   \n",
       "\n",
       "   Operating Income       EPS  Weighted Average Shs Out  Gross Margin  \\\n",
       "0          0.340663  0.702372                  0.594023      0.958234   \n",
       "1          0.225346  0.760171                  0.150953      0.955113   \n",
       "2          1.000000  0.758219                  0.628634      0.932708   \n",
       "3          0.503370  0.684207                  1.000000      0.962076   \n",
       "4          0.073891  0.692839                  0.205956      0.910782   \n",
       "\n",
       "   EBITDA Margin  EBIT Margin  ...  Net Income Growth  EPS Growth  \\\n",
       "0       0.742368     0.590496  ...           0.393916    0.581526   \n",
       "1       0.742530     0.590722  ...           0.395803    0.583167   \n",
       "2       0.742245     0.590419  ...           0.390812    0.577524   \n",
       "3       0.742339     0.590501  ...           0.388936    0.574803   \n",
       "4       0.742035     0.590119  ...           0.393645    0.581356   \n",
       "\n",
       "   Weighted Average Shares Growth  Operating Cash Flow growth  \\\n",
       "0                        0.001182                    0.728769   \n",
       "1                        0.001835                    0.731735   \n",
       "2                        0.000919                    0.728306   \n",
       "3                        0.001294                    0.727956   \n",
       "4                        0.000978                    0.728401   \n",
       "\n",
       "   Free Cash Flow growth  Receivables growth  Asset Growth  \\\n",
       "0               0.178780            0.042847      0.199783   \n",
       "1               0.184937            0.052082      0.241678   \n",
       "2               0.178001            0.049084      0.185663   \n",
       "3               0.176836            0.042193      0.198876   \n",
       "4               0.178022            0.041400      0.202815   \n",
       "\n",
       "   Book Value per Share Growth  SG&A Expenses Growth  class  \n",
       "0                     0.433673              0.211729      1  \n",
       "1                     0.447246              0.284560      1  \n",
       "2                     0.427119              0.284715      1  \n",
       "3                     0.429823              0.292369      1  \n",
       "4                     0.451393              0.290823      1  \n",
       "\n",
       "[5 rows x 60 columns]"
      ]
     },
     "execution_count": 13,
     "metadata": {},
     "output_type": "execute_result"
    }
   ],
   "source": [
    "stock_data = pd.read_csv('data/Example_DATASET_clean.csv')\n",
    "\n",
    "stock_data.head()"
   ]
  },
  {
   "cell_type": "markdown",
   "metadata": {},
   "source": [
    "## Identification of the target concept"
   ]
  },
  {
   "cell_type": "markdown",
   "metadata": {},
   "source": [
    "We want our model to correctly classify all data. In addition, we want to minimize the number of False Positives, since these would make people invest on stock that will decrease in value, and lose money."
   ]
  },
  {
   "cell_type": "markdown",
   "metadata": {},
   "source": [
    "## Definition of the training and test sets"
   ]
  },
  {
   "cell_type": "markdown",
   "metadata": {},
   "source": [
    "We will split the data into two sets (training and testing) using the function **train_test_split**. In addition, we will use Cross validation (with n_split=10) to better evaluate our model"
   ]
  },
  {
   "cell_type": "code",
   "execution_count": 14,
   "metadata": {},
   "outputs": [],
   "source": [
    "# for reproducibility purposes\n",
    "seed = 11\n",
    "\n",
    "# Training and test\n",
    "all_inputs = stock_data.loc[:, 'Revenue' : 'SG&A Expenses Growth'].values\n",
    "\n",
    "all_labels = stock_data['class'].values\n",
    "\n",
    "(training_inputs,\n",
    " testing_inputs,\n",
    " training_classes,\n",
    " testing_classes) = train_test_split(all_inputs, all_labels, test_size=0.25, random_state=seed)\n",
    "\n",
    "cross_validation = StratifiedKFold(n_splits=10,\n",
    "                                       shuffle=True,\n",
    "                                       random_state=seed)"
   ]
  },
  {
   "cell_type": "markdown",
   "metadata": {},
   "source": [
    "## Learning algorithms"
   ]
  },
  {
   "cell_type": "markdown",
   "metadata": {},
   "source": [
    "In the development of the models, we will start by creating a very simple model and evaluate it. After this, we will tune the parameters to obtain the best model. Finaly, we will do a final evaluation of the model, and interpret the resulting confusion matrix and classification metrics."
   ]
  },
  {
   "cell_type": "markdown",
   "metadata": {},
   "source": [
    "### Decision Trees"
   ]
  },
  {
   "cell_type": "markdown",
   "metadata": {},
   "source": [
    "A **Decision Tree** is a decision support tool that uses a tree-like model of decisions and their possible consequences, including chance event outcomes, resource costs, and utility."
   ]
  },
  {
   "cell_type": "code",
   "execution_count": 15,
   "metadata": {},
   "outputs": [],
   "source": [
    "decision_tree_classifier = DecisionTreeClassifier()"
   ]
  },
  {
   "cell_type": "code",
   "execution_count": 16,
   "metadata": {},
   "outputs": [
    {
     "name": "stdout",
     "output_type": "stream",
     "text": [
      "Score: 0.61875\n",
      "CPU times: user 21.8 ms, sys: 0 ns, total: 21.8 ms\n",
      "Wall time: 21 ms\n"
     ]
    }
   ],
   "source": [
    "%%time\n",
    "decision_tree_classifier.fit(training_inputs, training_classes)\n",
    "print('Score: {}'.format(decision_tree_classifier.score(testing_inputs, testing_classes)))"
   ]
  },
  {
   "cell_type": "markdown",
   "metadata": {},
   "source": [
    "#### Parameter tunning"
   ]
  },
  {
   "cell_type": "markdown",
   "metadata": {},
   "source": [
    "For the Decision Trees Algorithm, we decided to tune the following parameters:\n",
    "* **criterion:** The function to measure the quality of a split. We will use the values *gini* and *entropy*.\n",
    "* **splitter:** The strategy used to choose the split at each node. We will use the values *best* and *random*.\n",
    "* **max_depth:** The maximum depth of the tree. We will test with values between 10 and 60.\n",
    "* **max_features:** The number of features to consider when looking for the best split. We will use the values *auto*, *sqrt* and *log2*."
   ]
  },
  {
   "cell_type": "code",
   "execution_count": 17,
   "metadata": {},
   "outputs": [],
   "source": [
    "#testing parameters\n",
    "pipeline = Pipeline(\n",
    "            steps = [['smote', SMOTE(random_state=seed)],\n",
    "                    ['dtc', DecisionTreeClassifier()]])\n",
    "\n",
    "\n",
    "\n",
    "parameter_grid = {'dtc__criterion':['gini','entropy'],\n",
    "                  'dtc__splitter':['best','random'],\n",
    "                  'dtc__max_depth': [i for i in range(10,60)],\n",
    "                  'dtc__max_features': ['auto', 'sqrt', 'log2']}\n",
    "\n",
    "\n",
    "grid_search = GridSearchCV(\n",
    "                           estimator=pipeline,\n",
    "                           param_grid=parameter_grid,\n",
    "                           cv=cross_validation)"
   ]
  },
  {
   "cell_type": "code",
   "execution_count": 18,
   "metadata": {},
   "outputs": [
    {
     "name": "stdout",
     "output_type": "stream",
     "text": [
      "Cross-validation score: 0.6713209219858156\n",
      "Test score: 0.63125\n",
      "Best parameters: {'dtc__criterion': 'gini', 'dtc__max_depth': 23, 'dtc__max_features': 'auto', 'dtc__splitter': 'best'}\n",
      "CPU times: user 2min 14s, sys: 1.53 s, total: 2min 16s\n",
      "Wall time: 34.2 s\n"
     ]
    }
   ],
   "source": [
    "%%time\n",
    "grid_search.fit(training_inputs, training_classes)\n",
    "cv_score = grid_search.best_score_\n",
    "test_score = grid_search.score(testing_inputs, testing_classes)\n",
    "print(f'Cross-validation score: {cv_score}\\nTest score: {test_score}')\n",
    "print('Best parameters: {}'.format(grid_search.best_params_))"
   ]
  },
  {
   "cell_type": "markdown",
   "metadata": {},
   "source": [
    "For a given execution, the best parameters for this algorithm were *entropy criterion*, *max_depth 16*, *max_features = sqrt* and a *random splitter*"
   ]
  },
  {
   "cell_type": "code",
   "execution_count": 19,
   "metadata": {},
   "outputs": [],
   "source": [
    "best_decision_tree=grid_search.best_estimator_"
   ]
  },
  {
   "cell_type": "markdown",
   "metadata": {},
   "source": [
    "#### Final training and testing"
   ]
  },
  {
   "cell_type": "code",
   "execution_count": 43,
   "metadata": {},
   "outputs": [
    {
     "name": "stdout",
     "output_type": "stream",
     "text": [
      "\n",
      "Classification Report: \n",
      "               precision    recall  f1-score   support\n",
      "\n",
      "           0       0.33      0.51      0.40        43\n",
      "           1       0.77      0.62      0.69       117\n",
      "\n",
      "    accuracy                           0.59       160\n",
      "   macro avg       0.55      0.56      0.54       160\n",
      "weighted avg       0.65      0.59      0.61       160\n",
      "\n"
     ]
    },
    {
     "data": {
      "image/png": "[encoded data removed]",
      "text/plain": [
       "<Figure size 720x576 with 2 Axes>"
      ]
     },
     "metadata": {
      "needs_background": "light"
     },
     "output_type": "display_data"
    }
   ],
   "source": [
    "best_decision_tree.fit(training_inputs, training_classes)\n",
    "y_pred = best_decision_tree.predict(testing_inputs)\n",
    "\n",
    "cm = confusion_matrix(testing_classes, y_pred)\n",
    "plt.figure(figsize=(10,8))\n",
    "plt.title(\"Confusion Matrix for DTC\")\n",
    "sb.heatmap(cm, annot=True, fmt=\"d\")\n",
    "\n",
    "\n",
    "print(\"\\nClassification Report: \\n\", classification_report(testing_classes, y_pred))"
   ]
  },
  {
   "cell_type": "markdown",
   "metadata": {},
   "source": [
    "We achieved a 36% precision for 0 and a 72% precision for 1. This means that for the the class 0 the model is very bad, but from the perspective of investing it might not be that bad because for the class 1 it's relatively good, this means that we could win money when investing. "
   ]
  },
  {
   "cell_type": "markdown",
   "metadata": {},
   "source": [
    "### K-NN"
   ]
  },
  {
   "cell_type": "markdown",
   "metadata": {},
   "source": [
    "KNN is a non-parametric and lazy learning algorithm. Non-parametric means there is no assumption for underlying data distribution. In other words, the model structure determined from the dataset."
   ]
  },
  {
   "cell_type": "code",
   "execution_count": 21,
   "metadata": {},
   "outputs": [],
   "source": [
    "neigh = KNeighborsClassifier()"
   ]
  },
  {
   "cell_type": "code",
   "execution_count": 44,
   "metadata": {},
   "outputs": [
    {
     "name": "stdout",
     "output_type": "stream",
     "text": [
      "Score: 0.75625\n",
      "CPU times: user 34.3 ms, sys: 0 ns, total: 34.3 ms\n",
      "Wall time: 13.8 ms\n"
     ]
    }
   ],
   "source": [
    "%%time\n",
    "neigh.fit(training_inputs, training_classes)\n",
    "print('Score: {}'.format(neigh.score(testing_inputs, testing_classes)))"
   ]
  },
  {
   "cell_type": "markdown",
   "metadata": {},
   "source": [
    "#### Parameter tunning"
   ]
  },
  {
   "cell_type": "markdown",
   "metadata": {},
   "source": [
    "For K-NN, we decided to tune three parameters:\n",
    "\n",
    "\n",
    "*   **n_neighbors**: number of neighbors to use;\n",
    "*   **weights**: weight function used in prediction, how to determine weight of each neighbor;\n",
    "*   **algorithm**: algorithm used to compute the nearest neighbors."
   ]
  },
  {
   "cell_type": "code",
   "execution_count": 23,
   "metadata": {},
   "outputs": [],
   "source": [
    "#testing parameters\n",
    "pipeline = Pipeline(\n",
    "            steps = [['smote', SMOTE(random_state=seed)],\n",
    "                    ['neighs', KNeighborsClassifier()]])\n",
    "\n",
    "\n",
    "\n",
    "parameter_grid = {'neighs__n_neighbors': [2, 3, 4, 5, 6, 7, 8, 9, 10, 11, 12, 13, 14, 15, 16, 17, 18, 19, 20],\n",
    "                  'neighs__weights': ['uniform', 'distance'],\n",
    "                  'neighs__algorithm': ['auto', 'ball_tree', 'kd_tree', 'brute']}\n",
    "\n",
    "\n",
    "grid_search = GridSearchCV(\n",
    "                           estimator=pipeline,\n",
    "                           param_grid=parameter_grid,\n",
    "                           cv=cross_validation)"
   ]
  },
  {
   "cell_type": "code",
   "execution_count": 24,
   "metadata": {},
   "outputs": [
    {
     "name": "stdout",
     "output_type": "stream",
     "text": [
      "Cross-validation score: 0.5943262411347517\n",
      "Test score: 0.625\n",
      "Best parameters: {'neighs__algorithm': 'auto', 'neighs__n_neighbors': 6, 'neighs__weights': 'distance'}\n",
      "CPU times: user 46.9 s, sys: 596 ms, total: 47.5 s\n",
      "Wall time: 11.9 s\n"
     ]
    }
   ],
   "source": [
    "%%time\n",
    "grid_search.fit(training_inputs, training_classes)\n",
    "cv_score = grid_search.best_score_\n",
    "test_score = grid_search.score(testing_inputs, testing_classes)\n",
    "print(f'Cross-validation score: {cv_score}\\nTest score: {test_score}')\n",
    "print('Best parameters: {}'.format(grid_search.best_params_))"
   ]
  },
  {
   "cell_type": "markdown",
   "metadata": {},
   "source": [
    "The best parameters for K-NN are an auto algorithm, a n_neighbors of 6 and an uniform scale.\n",
    "Next, we will save the best K-NN model for the final training and testing."
   ]
  },
  {
   "cell_type": "code",
   "execution_count": 25,
   "metadata": {},
   "outputs": [],
   "source": [
    "best_neigh = grid_search.best_estimator_"
   ]
  },
  {
   "cell_type": "markdown",
   "metadata": {},
   "source": [
    "### Final training and testing"
   ]
  },
  {
   "cell_type": "code",
   "execution_count": 26,
   "metadata": {},
   "outputs": [
    {
     "name": "stdout",
     "output_type": "stream",
     "text": [
      "\n",
      "Classification Report: \n",
      "               precision    recall  f1-score   support\n",
      "\n",
      "           0       0.38      0.65      0.48        43\n",
      "           1       0.83      0.62      0.71       117\n",
      "\n",
      "    accuracy                           0.62       160\n",
      "   macro avg       0.61      0.63      0.59       160\n",
      "weighted avg       0.71      0.62      0.65       160\n",
      "\n"
     ]
    },
    {
     "data": {
      "image/png": "[encoded data removed]",
      "text/plain": [
       "<Figure size 720x576 with 2 Axes>"
      ]
     },
     "metadata": {
      "needs_background": "light"
     },
     "output_type": "display_data"
    }
   ],
   "source": [
    "best_neigh.fit(training_inputs, training_classes)\n",
    "\n",
    "y_pred = best_neigh.predict(testing_inputs)\n",
    "\n",
    "cm = confusion_matrix(testing_classes, y_pred)\n",
    "plt.figure(figsize=(10,8))\n",
    "plt.title(\"Confusion Matrix for K-NN\")\n",
    "sb.heatmap(cm, annot=True, fmt=\"d\")\n",
    "\n",
    "print(\"\\nClassification Report: \\n\", classification_report(testing_classes, y_pred))"
   ]
  },
  {
   "cell_type": "markdown",
   "metadata": {},
   "source": [
    "This model achieved a precison of 38% for the class 0 and 83% for the class 1. This is relatively good because when investing in the predicted results we would earn money, but as the classification for class 0 is bad we wouldn't maximize our chance of winning money. It's also good to point that the model has a low number of false positives, which is good, since false positives leads to the loss of money.\n"
   ]
  },
  {
   "cell_type": "markdown",
   "metadata": {},
   "source": [
    "### SVM"
   ]
  },
  {
   "cell_type": "markdown",
   "metadata": {},
   "source": [
    "**SVM** (support-vector machines) are supervised learning models used for classification and regression problems. The algorithm works by finding a hyper-plane that creates a boundary between the types of data.\n",
    "\n",
    "To start with, we are going to do a initial training and scoring of the data"
   ]
  },
  {
   "cell_type": "code",
   "execution_count": 27,
   "metadata": {},
   "outputs": [],
   "source": [
    "clf = SVC()"
   ]
  },
  {
   "cell_type": "code",
   "execution_count": 28,
   "metadata": {},
   "outputs": [
    {
     "ename": "NameError",
     "evalue": "name 'nn' is not defined",
     "output_type": "error",
     "traceback": [
      "\u001b[0;31m---------------------------------------------------------------------------\u001b[0m",
      "\u001b[0;31mNameError\u001b[0m                                 Traceback (most recent call last)",
      "\u001b[0;32m<timed exec>\u001b[0m in \u001b[0;36m<module>\u001b[0;34m\u001b[0m\n",
      "\u001b[0;31mNameError\u001b[0m: name 'nn' is not defined"
     ]
    }
   ],
   "source": [
    "%%time\n",
    "clf.fit(training_inputs, training_classes)\n",
    "print('Score: {}'.format(nn.score(testing_inputs, testing_classes)))"
   ]
  },
  {
   "cell_type": "markdown",
   "metadata": {},
   "source": [
    "We achieved an initial score of around 70%. Now, through parameter tunning, we will try to improve on this."
   ]
  },
  {
   "cell_type": "markdown",
   "metadata": {},
   "source": [
    "#### Parameter tunning"
   ]
  },
  {
   "cell_type": "markdown",
   "metadata": {},
   "source": [
    "For SVM, we decided to tune three parameters:\n",
    "\n",
    "\n",
    "*   **kernel**: the kernel type to be used in the algorithm. We are going to use the values *linear*, *poly*, *rbf* and *sigmoid*;\n",
    "*   **degree**: degree of the polynomial kernel function (is ignored by all other kernels). We are using the integers from 2 to 5, inclusive;\n",
    "*   **gamma**: kernel coefficient for *rbf*, *poly* and *sigmoid*. We will use *scale* and *auto*."
   ]
  },
  {
   "cell_type": "code",
   "execution_count": 29,
   "metadata": {},
   "outputs": [],
   "source": [
    "#testing parameters\n",
    "pipeline = Pipeline(\n",
    "            steps = [['smote', SMOTE(random_state=seed)],\n",
    "                    ['svc', SVC()]])\n",
    "\n",
    "\n",
    "parameter_grid = {'svc__kernel': ['linear', 'poly', 'rbf', 'sigmoid'],\n",
    "                  'svc__degree': [2, 3, 4, 5],\n",
    "                  'svc__gamma': ['scale', 'auto']\n",
    "                 }\n",
    "cross_validation = StratifiedKFold(n_splits=10)\n",
    "\n",
    "grid_search = GridSearchCV(estimator=pipeline,\n",
    "                           param_grid=parameter_grid,\n",
    "                           cv=cross_validation)"
   ]
  },
  {
   "cell_type": "code",
   "execution_count": 30,
   "metadata": {},
   "outputs": [
    {
     "name": "stdout",
     "output_type": "stream",
     "text": [
      "Cross-validation score: 0.6464095744680851\n",
      "Test score: 0.69375\n",
      "Best parameters: {'svc__degree': 2, 'svc__gamma': 'scale', 'svc__kernel': 'poly'}\n",
      "CPU times: user 33.9 s, sys: 336 ms, total: 34.2 s\n",
      "Wall time: 8.56 s\n"
     ]
    }
   ],
   "source": [
    "%%time \n",
    "grid_search.fit(training_inputs, training_classes)\n",
    "cv_score = grid_search.best_score_\n",
    "test_score = grid_search.score(testing_inputs, testing_classes)\n",
    "\n",
    "print(f'Cross-validation score: {cv_score}\\nTest score: {test_score}')\n",
    "print('Best parameters: {}'.format(grid_search.best_params_))"
   ]
  },
  {
   "cell_type": "markdown",
   "metadata": {},
   "source": [
    "The best parameters for SVM are a poly kernel, a degree of 5 and a scale gamma.\n",
    "\n",
    "Since the degree can be any integer number, we will try to find a better value for it"
   ]
  },
  {
   "cell_type": "code",
   "execution_count": 31,
   "metadata": {},
   "outputs": [],
   "source": [
    "parameter_grid = {'svc__kernel': ['poly'],\n",
    "                  'svc__degree': [5, 6, 7, 8, 9, 10, 11, 12, 13, 14, 15],\n",
    "                  'svc__gamma': ['scale']\n",
    "                 }\n",
    "\n",
    "grid_search = GridSearchCV(estimator=pipeline,\n",
    "                           param_grid=parameter_grid,\n",
    "                           cv=cross_validation)"
   ]
  },
  {
   "cell_type": "code",
   "execution_count": 32,
   "metadata": {},
   "outputs": [
    {
     "name": "stdout",
     "output_type": "stream",
     "text": [
      "Cross-validation score: 0.6256648936170213\n",
      "Test score: 0.6\n",
      "Best parameters: {'svc__degree': 15, 'svc__gamma': 'scale', 'svc__kernel': 'poly'}\n",
      "CPU times: user 26.7 s, sys: 360 ms, total: 27 s\n",
      "Wall time: 7.06 s\n"
     ]
    }
   ],
   "source": [
    "%%time \n",
    "grid_search.fit(training_inputs, training_classes)\n",
    "cv_score = grid_search.best_score_\n",
    "test_score = grid_search.score(testing_inputs, testing_classes)\n",
    "\n",
    "print(f'Cross-validation score: {cv_score}\\nTest score: {test_score}')\n",
    "print('Best parameters: {}'.format(grid_search.best_params_))"
   ]
  },
  {
   "cell_type": "markdown",
   "metadata": {},
   "source": [
    "In conclusion, the best degree for SVC is 7.\n",
    "\n",
    "Next, we will save the best svc model for the final training and testing."
   ]
  },
  {
   "cell_type": "code",
   "execution_count": 33,
   "metadata": {},
   "outputs": [],
   "source": [
    "best_svc = grid_search.best_estimator_"
   ]
  },
  {
   "cell_type": "markdown",
   "metadata": {},
   "source": [
    "### Final training and testing"
   ]
  },
  {
   "cell_type": "code",
   "execution_count": 34,
   "metadata": {},
   "outputs": [
    {
     "name": "stdout",
     "output_type": "stream",
     "text": [
      "\n",
      "Classification Report: \n",
      "               precision    recall  f1-score   support\n",
      "\n",
      "           0       0.35      0.56      0.43        43\n",
      "           1       0.79      0.62      0.69       117\n",
      "\n",
      "    accuracy                           0.60       160\n",
      "   macro avg       0.57      0.59      0.56       160\n",
      "weighted avg       0.67      0.60      0.62       160\n",
      "\n"
     ]
    },
    {
     "data": {
      "image/png": "[encoded data removed]",
      "text/plain": [
       "<Figure size 720x576 with 2 Axes>"
      ]
     },
     "metadata": {
      "needs_background": "light"
     },
     "output_type": "display_data"
    }
   ],
   "source": [
    "best_svc.fit(training_inputs, training_classes)\n",
    "\n",
    "y_pred = best_svc.predict(testing_inputs)\n",
    "\n",
    "cm = confusion_matrix(testing_classes, y_pred)\n",
    "plt.figure(figsize=(10,8))\n",
    "plt.title(\"Confusion Matrix for SVC\")\n",
    "sb.heatmap(cm, annot=True, fmt=\"d\")\n",
    "\n",
    "print(\"\\nClassification Report: \\n\", classification_report(testing_classes, y_pred))"
   ]
  },
  {
   "cell_type": "markdown",
   "metadata": {},
   "source": [
    "We achieve an 35% precision for 0 and a relatively high precision for 1. This means that our model is better at classifying data of class 1.\n",
    "\n",
    "The model has a low number of false positives, which is good, since false positives leads to the loss of money."
   ]
  },
  {
   "cell_type": "markdown",
   "metadata": {},
   "source": [
    "### Neural Networks"
   ]
  },
  {
   "cell_type": "markdown",
   "metadata": {},
   "source": [
    "The next algorithm we are going to implement is the **Multilayer Perceptron Classifier**. This algorithm uses a Multilayer Percepton, a network composed of multiple layers of perceptrons, to classify the data.\n",
    "\n",
    "Firstly, we are going to use a simple MLPClassifier to get a first assessment of the classifier."
   ]
  },
  {
   "cell_type": "code",
   "execution_count": 35,
   "metadata": {},
   "outputs": [],
   "source": [
    "nn = MLPClassifier()"
   ]
  },
  {
   "cell_type": "code",
   "execution_count": 36,
   "metadata": {},
   "outputs": [
    {
     "name": "stdout",
     "output_type": "stream",
     "text": [
      "Score: 0.75625\n",
      "CPU times: user 1.73 s, sys: 19.8 ms, total: 1.75 s\n",
      "Wall time: 443 ms\n"
     ]
    },
    {
     "name": "stderr",
     "output_type": "stream",
     "text": [
      "/home/joao/anaconda3/lib/python3.8/site-packages/sklearn/neural_network/_multilayer_perceptron.py:614: ConvergenceWarning: Stochastic Optimizer: Maximum iterations (200) reached and the optimization hasn't converged yet.\n",
      "  warnings.warn(\n"
     ]
    }
   ],
   "source": [
    "%%time\n",
    "nn.fit(training_inputs, training_classes)\n",
    "print('Score: {}'.format(nn.score(testing_inputs, testing_classes)))"
   ]
  },
  {
   "cell_type": "markdown",
   "metadata": {},
   "source": [
    "With a simple MLPClassifier, we got an average score of 70% , which is very good. Now, we will tune the parameters to increase the score."
   ]
  },
  {
   "cell_type": "markdown",
   "metadata": {},
   "source": [
    "#### Parameter tunning"
   ]
  },
  {
   "cell_type": "markdown",
   "metadata": {},
   "source": [
    "We are going to tune three parameters:\n",
    "\n",
    "\n",
    "*   **hidden_layer_sizes**: the layout and size of the layers;\n",
    "*   **activation**: activation function for the hidden layer;\n",
    "*   **solver**: the solver for weight optimization."
   ]
  },
  {
   "cell_type": "code",
   "execution_count": 37,
   "metadata": {},
   "outputs": [],
   "source": [
    "#testing parameters\n",
    "pipeline = Pipeline(\n",
    "            steps = [['smote', SMOTE(random_state=seed)],\n",
    "                    ['mlp', MLPClassifier(max_iter=2000)]])\n",
    "\n",
    "parameter_grid = {\n",
    "                  'mlp__hidden_layer_sizes' : [ (100,), (100, 80), (100, 80, 60)],\n",
    "                  'mlp__activation': ['tanh', 'relu'],\n",
    "                  'mlp__solver': [ 'sgd', 'adam'],\n",
    "                 }\n",
    "\n",
    "grid_search = GridSearchCV(estimator=pipeline,\n",
    "                           param_grid=parameter_grid,\n",
    "                           cv=cross_validation)"
   ]
  },
  {
   "cell_type": "code",
   "execution_count": 38,
   "metadata": {},
   "outputs": [
    {
     "name": "stdout",
     "output_type": "stream",
     "text": [
      "Cross-validation score: 0.6196365248226952\n",
      "Test score: 0.71875\n",
      "Best parameters: {'mlp__activation': 'relu', 'mlp__hidden_layer_sizes': (100,), 'mlp__solver': 'sgd'}\n",
      "CPU times: user 2min 54s, sys: 1.69 s, total: 2min 56s\n",
      "Wall time: 44.2 s\n"
     ]
    }
   ],
   "source": [
    "%%time \n",
    "grid_search.fit(training_inputs, training_classes)\n",
    "cv_score = grid_search.best_score_\n",
    "test_score = grid_search.score(testing_inputs, testing_classes)\n",
    "\n",
    "print(f'Cross-validation score: {cv_score}\\nTest score: {test_score}')\n",
    "print('Best parameters: {}'.format(grid_search.best_params_))"
   ]
  },
  {
   "cell_type": "markdown",
   "metadata": {},
   "source": [
    "After the parameter tunning, we discovered that the best parameters are: **tanh** for activation, **adam** for solver, and **(100,80)** for the hidden_layers.\n",
    "\n",
    "We will now save the best estimator."
   ]
  },
  {
   "cell_type": "code",
   "execution_count": 39,
   "metadata": {},
   "outputs": [],
   "source": [
    "best_nn = grid_search.best_estimator_"
   ]
  },
  {
   "cell_type": "markdown",
   "metadata": {},
   "source": [
    "### Final training and testing"
   ]
  },
  {
   "cell_type": "code",
   "execution_count": 40,
   "metadata": {},
   "outputs": [
    {
     "name": "stdout",
     "output_type": "stream",
     "text": [
      "\n",
      "Classification Report: \n",
      "               precision    recall  f1-score   support\n",
      "\n",
      "           0       0.26      0.42      0.32        43\n",
      "           1       0.73      0.57      0.64       117\n",
      "\n",
      "    accuracy                           0.53       160\n",
      "   macro avg       0.50      0.50      0.48       160\n",
      "weighted avg       0.60      0.53      0.56       160\n",
      "\n"
     ]
    },
    {
     "data": {
      "image/png": "[encoded data removed]",
      "text/plain": [
       "<Figure size 720x576 with 2 Axes>"
      ]
     },
     "metadata": {
      "needs_background": "light"
     },
     "output_type": "display_data"
    }
   ],
   "source": [
    "best_nn.fit(training_inputs, training_classes)\n",
    "y_pred = best_nn.predict(testing_inputs)\n",
    "\n",
    "\n",
    "cm = confusion_matrix(testing_classes, y_pred) \n",
    "plt.figure(figsize=(10,8)) \n",
    "plt.title(\"Confusion Matrix for Neural Network\") \n",
    "sb.heatmap(cm, annot=True, fmt=\"d\")\n",
    "\n",
    "print(\"\\nClassification Report: \\n\", classification_report(testing_classes, y_pred))"
   ]
  },
  {
   "cell_type": "markdown",
   "metadata": {},
   "source": [
    "Like the other models, the neural network struggles to correctly classify the data of class 0, while having no troubles classifying class 1. It is important to note that this model got the highest recall of all models."
   ]
  },
  {
   "cell_type": "markdown",
   "metadata": {},
   "source": [
    "## Result Analyses"
   ]
  },
  {
   "cell_type": "markdown",
   "metadata": {},
   "source": [
    "We are going to evaluate and compare all models scores now."
   ]
  },
  {
   "cell_type": "code",
   "execution_count": 42,
   "metadata": {},
   "outputs": [
    {
     "data": {
      "image/png": "[encoded data removed]",
      "text/plain": [
       "<Figure size 432x288 with 1 Axes>"
      ]
     },
     "metadata": {
      "needs_background": "light"
     },
     "output_type": "display_data"
    }
   ],
   "source": [
    "# prepare models\n",
    "models = []\n",
    "models.append(('DT', best_decision_tree))\n",
    "models.append(('KNN', best_neigh))\n",
    "models.append(('SVM', best_svc))\n",
    "models.append(('NN', best_nn))\n",
    "\n",
    "# evaluate each model in turn\n",
    "results = []\n",
    "names = []\n",
    "\n",
    "for name, model in models:\n",
    "  cv_scores = []\n",
    "\n",
    "  for train_index, test_index in cross_validation.split(all_inputs, all_labels):\n",
    "    x_train_fold, x_test_fold = all_inputs[train_index], all_inputs[test_index]\n",
    "    y_train_fold, y_test_fold = all_labels[train_index], all_labels[test_index]\n",
    "    model.fit(x_train_fold, y_train_fold)\n",
    "    cv_scores.append(model.score(x_test_fold, y_test_fold))\n",
    "\n",
    "  results.append(cv_scores)\n",
    "  names.append(name)\n",
    "\t\n",
    "# boxplot algorithm comparison\n",
    "fig = plt.figure()\n",
    "fig.suptitle('Algorithm Comparison')\n",
    "ax = fig.add_subplot(111)\n",
    "plt.boxplot(results)\n",
    "ax.set_xticklabels(names)\n",
    "plt.show()"
   ]
  },
  {
   "cell_type": "markdown",
   "metadata": {},
   "source": [
    "We can see that the scores of SVM and NN were the highest ones, which was to be expected. Interestingly, the NN model produced the worst and the best results."
   ]
  },
  {
   "cell_type": "markdown",
   "metadata": {},
   "source": [
    "## Conclusion"
   ]
  },
  {
   "cell_type": "markdown",
   "metadata": {},
   "source": [
    "In the beginning of the project, we set the goal of creating a model to correctly classify the stocks that would increase in value.\n",
    "\n",
    "We began with the preprocessing of the data, by searching for missing values, removing redundant columns and scalling the data.\n",
    "\n",
    "After this, we implemented the proposed algorithms, DTS, K-NN, SVM and Neural Networks. The general scores were around 70%, which is relatively low. With this information, we can conclude that the 10-K filings of a company aren't a good metric to determine if the stock is going to rise or fall. It is also important to point out that the size of the data was small (around 600 rows), which can be one of the reasons the scores were so low."
   ]
  }
 ],
 "metadata": {
  "colab": {
   "collapsed_sections": [],
   "name": "Beat US Stock market.ipynb",
   "provenance": []
  },
  "kernelspec": {
   "display_name": "Python 3",
   "language": "python",
   "name": "python3"
  },
  "language_info": {
   "codemirror_mode": {
    "name": "ipython",
    "version": 3
   },
   "file_extension": ".py",
   "mimetype": "text/x-python",
   "name": "python",
   "nbconvert_exporter": "python",
   "pygments_lexer": "ipython3",
   "version": "3.8.5"
  }
 },
 "nbformat": 4,
 "nbformat_minor": 1
}
